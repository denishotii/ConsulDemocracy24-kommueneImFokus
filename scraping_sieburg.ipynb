{
 "cells": [
  {
   "cell_type": "code",
   "execution_count": 8,
   "metadata": {},
   "outputs": [
    {
     "name": "stdout",
     "output_type": "stream",
     "text": [
      "Requirement already satisfied: requests in c:\\users\\user\\appdata\\local\\programs\\python\\python312\\lib\\site-packages (2.32.3)\n",
      "Requirement already satisfied: charset-normalizer<4,>=2 in c:\\users\\user\\appdata\\local\\programs\\python\\python312\\lib\\site-packages (from requests) (3.4.1)\n",
      "Requirement already satisfied: idna<4,>=2.5 in c:\\users\\user\\appdata\\local\\programs\\python\\python312\\lib\\site-packages (from requests) (3.10)\n",
      "Requirement already satisfied: urllib3<3,>=1.21.1 in c:\\users\\user\\appdata\\local\\programs\\python\\python312\\lib\\site-packages (from requests) (2.3.0)\n",
      "Requirement already satisfied: certifi>=2017.4.17 in c:\\users\\user\\appdata\\local\\programs\\python\\python312\\lib\\site-packages (from requests) (2024.12.14)\n",
      "Note: you may need to restart the kernel to use updated packages.\n"
     ]
    },
    {
     "name": "stderr",
     "output_type": "stream",
     "text": [
      "\n",
      "[notice] A new release of pip is available: 23.2.1 -> 24.3.1\n",
      "[notice] To update, run: python.exe -m pip install --upgrade pip\n"
     ]
    }
   ],
   "source": [
    "%pip install requests "
   ]
  },
  {
   "cell_type": "code",
   "execution_count": 9,
   "metadata": {},
   "outputs": [],
   "source": [
    "import requests\n",
    "from bs4 import BeautifulSoup\n",
    "\n",
    "url = 'https://mitmachen.siegburg.de/angebotslandkarte'\n",
    "\n",
    "response = requests.get(url)\n",
    "\n",
    "links = []\n",
    "\n",
    "if response.status_code == 200:\n",
    "    soup = BeautifulSoup(response.content, 'html.parser')\n",
    "    \n",
    "    a_tags = soup.find_all('a')\n",
    "\n",
    "    for tag in a_tags:\n",
    "        href = tag.get('href')\n",
    "        \n",
    "        if href and '/proposals/' in href and not 'new' in href:\n",
    "            link = 'https://mitmachen.siegburg.de' + href\n",
    "    \n",
    "            if not link in links:\n",
    "                links.append(link)\n",
    "    \n",
    "else:\n",
    "    print(\"Failed to retrieve the webpage. Status code:\", response.status_code)\n"
   ]
  },
  {
   "cell_type": "code",
   "execution_count": 10,
   "metadata": {},
   "outputs": [],
   "source": [
    "import pandas as pd"
   ]
  },
  {
   "cell_type": "code",
   "execution_count": 11,
   "metadata": {},
   "outputs": [
    {
     "name": "stdout",
     "output_type": "stream",
     "text": [
      "{'https://mitmachen.siegburg.de/proposals/1090-senioiren-cafe-lichtblick-kaldauen': 'Senioiren Cafe Lichtblick Kaldauen18. September 20240 KommentareZugehöriges Projekt:\\n            Angebotslandkarte60-7475+Geselliges BeisammenseinDas Cafe Lichtblick in Kaldauen lädt alle Senioren zum geselligen Beisammensein bei Kaffee und Kuchen ein. Es wird gesungen, gespielt, getanzt, gelacht und viel erzählt. Auch gemeinsame Ausflüge und Feiern stehen auf dem Programm.Haben Sie Interesse, dann kommen Sie gerne vorbei. Die Senioren und das Team freut sich auf Sie!Treffen : Alle 14 Tage Dienstags von 15.00 - 17.00 Uhr\\xa0(immer in geraden Wochen)Ort : Pfarrheim der katholischen Kirche KaldauenAntoniusweg 1 ;\\xa053721 SiegburgAnmeldungen bei Rita Quadt ; Tel.:\\xa0015733725174:Kommentare(0)Um fortzufahren, müssen Sie sichanmeldenoderregistrieren.MCafé LichtblickBeigetreten am: 18.09.2024Konto verifiziertVorschläge1Unterstützer*innenUnterstützer*innenUnterstützung0 Unterstützer*innenUm fortzufahren, müssen Sie sichanmeldenoderregistrieren.TeilenTeilenwhatsapp', 'https://mitmachen.siegburg.de/proposals/1089-digitalsprechstunde-fur-senior-innen': 'Digitalsprechstunde für Senior*innen16. September 20240 KommentareZugehöriges Projekt:\\n            Angebotslandkarte60-7475+Hilfe & BeratungAm ersten Donnerstag im Monat erhalten Seniorinnen und Senioren aus Siegburg die Möglichkeit, in der Servicestelle am Friedensplatz 2, ihre Fragen und Anliegen rund um Handy, Laptop und co. an Experten der Stabstelle Digitalisierung zu richten. Diese helfen gerne bei jeder Angelegenheit weiter!Zwischen 9 und 12 Uhr können Sie ohne Termin einfach hereinkommen. Sollten Sie Fragen zu einem transportablen Gerät haben, bringen Sie dieses bitte mit.ACHTUNG Am 03.10. findet auf Grund des Feiertages keine Digitalsprechstunde statt. Diese wir auf den 02.10. verlegt.Servicestelle der Stadt SiegburgFriedensplatz 253721 Siegburg02241 102 5500senioren@siegburg.deKommentare(0)Um fortzufahren, müssen Sie sichanmeldenoderregistrieren.AAGBeigetreten am: 15.03.2024Konto verifiziertVorschläge17Kommentare11Unterstützer*innenUnterstützer*innenUnterstützung0 Unterstützer*innenUm fortzufahren, müssen Sie sichanmeldenoderregistrieren.TeilenTeilenwhatsapp', 'https://mitmachen.siegburg.de/proposals/1087-gemeinschaftsgarten-cecilienstrasse': 'Gemeinschaftsgarten Cecilienstraße12. September 20240 KommentareZugehöriges Projekt:\\n            Angebotslandkarte0-1213-1718-2425-4950-5960-7475+NaturDer Gemeinschaftsgarten ist eine Kooperation der Stadt Siegburg mit der städtischen Gesamtschule am Michaelsberg und dem Kulturcafé vom Evangelischen Jugendwerk.Montags und freitags von 14-16 Uhr ist - bei Gartenwetter - für alle Besucher geöffnet.Es besteht die Möglichkeit beim Gärtnern zu helfen, Schach zu spielen, das Zusammensein zu genießen, ein Buch zu lesen, Picknick zu machen...kurz gesagt, jeder genießt den Garten auf seine Weise.Kommentare(0)Um fortzufahren, müssen Sie sichanmeldenoderregistrieren.BEvangelische JugendwerkBeigetreten am: 12.09.2024Konto ist nicht verifiziertVorschläge1Unterstützer*innenUnterstützer*innenUnterstützung0 Unterstützer*innenUm fortzufahren, müssen Sie sichanmeldenoderregistrieren.TeilenTeilenwhatsapp', 'https://mitmachen.siegburg.de/proposals/1056-geselliges-beisammensein-in-braschoss': 'Geselliges Beisammensein in Braschoß18. August 20240 KommentareZugehöriges Projekt:\\n            Angebotslandkarte18-2425-4950-5960-7475+Geselliges BeisammenseinDer \"Pfarrverein Braschoß\" lädt regelmäßig zum geselligen Beisammensein nach Braschoß ein:- Skatabende- Leseabende- Spielabend- ...Konkrete Veranstaltungen werden unterhttps://www.pfarrverein-braschoss.de/aktuelles.htmlveröffentlicht.Gerne informieren wir Sie per Mail über neue Veranstaltungen:https://www.pfarrverein-braschoss.de/newsletter.htmlAlle interessierte Bürger:innen\\xa0 sind herzlich willkommen. In der Veranstaltungsübersicht ist vermerkt, wenn vorab eine Anmeldung erforderlich ist.Die Veranstaltungen finden in 53721 Siegburg-Braschoß, Braschosser Str. 50 statt.Kommentare(0)Um fortzufahren, müssen Sie sichanmeldenoderregistrieren.KEEBeigetreten am: 20.11.2022Konto verifiziertVorschläge3Unterstützer*innenUnterstützer*innenUnterstützung4 Unterstützer*innenUm fortzufahren, müssen Sie sichanmeldenoderregistrieren.DokumentePfarrverein Braschoß - Veranstaltungsuebersicht - 2024 - 2. Halbjahr.pdfTeilenTeilenwhatsapp', 'https://mitmachen.siegburg.de/proposals/1055-bildungsveranstaltungen-pfarrverein-braschoss': 'Bildungsveranstaltungen Pfarrverein Braschoß18. August 20240 KommentareZugehöriges Projekt:\\n            Angebotslandkarte18-2425-4950-5960-7475+BildungDer \"Pfarrverein Braschoß\" führt unterschiedlichste Veranstaltungen zur Fortbildung durch:- Vorträge zu unterschiedlichen Themen wie z.B. \"Aromatherapie in der Pflege\", \"Tierwohl - und wie es gelingen kann\", \"Einfüherung in die Welt der deutschen Weine inkl. Probe\", ...- Koch-/Backkurse- Nähcafes- ...Konkrete Veranstaltungen werden unterhttps://www.pfarrverein-braschoss.de/aktuelles.htmlveröffentlicht.Gerne informieren wir Sie per Mail über neue Veranstaltungen:https://www.pfarrverein-braschoss.de/newsletter.htmlAlle interessierte Bürger:innen\\xa0 sind herzlich willkommen. In der Veranstaltungsübersicht ist vermerkt, wenn vorab eine Anmeldung erforderlich ist.Die Veranstaltungen finden in 53721 Siegburg-Braschoß, Braschosser Str. 50 statt.Kommentare(0)Um fortzufahren, müssen Sie sichanmeldenoderregistrieren.KEEBeigetreten am: 20.11.2022Konto verifiziertVorschläge3Unterstützer*innenUnterstützer*innenUnterstützung4 Unterstützer*innenUm fortzufahren, müssen Sie sichanmeldenoderregistrieren.DokumentePfarrverein Braschoß - Veranstaltungsuebersicht - 2024 - 2. Halbjahr.pdfTeilenTeilenwhatsapp', 'https://mitmachen.siegburg.de/proposals/1054-offentlicher-bucherschrank-fur-kinder-jugend-erwachsenenliteratur-braschoss': 'Öffentlicher Bücherschrank für Kinder-/Jugend-/Erwachsenenliteratur - Braschoß15. August 20240 KommentareZugehöriges Projekt:\\n            Angebotslandkarte0-1213-1718-2425-4950-5960-7475+BildungStöbern und Tauschen erwünscht!Den Bücherschrank finden Sie vor der Spielplatz, Braschosser Str., BraschoßDamit alle auch lange Freude an dem Büchertauschschrank haben, gibt es ein paar einfache Regeln:der Bücherschrank steht jedem offenBringen Sie Bücher, die Sie selber ansprechen (inkl. Kinder- und Jugendbücher).Nicht geeignet sind Schulbücher, Zeitschriften, Werbematerial, Kassetten, CDs, DVDs.Verbotensind Bücher mit pornografischem, rassistischem oder gewaltverherrlichendem Inhalt.Der Bücherschrank ist weder Antiquariat noch Entsorgungsstelle.Ob Sie das Buch wieder zurückbringen, im Freundeskreis weitergegeben oder in einen anderen Bücherschrank stellen, bleibt Ihnen überlassen.Kommentare(0)Um fortzufahren, müssen Sie sichanmeldenoderregistrieren.KEEBeigetreten am: 20.11.2022Konto verifiziertVorschläge3Unterstützer*innenUnterstützer*innenUnterstützung2 Unterstützer*innenUm fortzufahren, müssen Sie sichanmeldenoderregistrieren.TeilenTeilenwhatsapp', 'https://mitmachen.siegburg.de/proposals/1052-rikscha-fahrten-in-siegburg': 'Rikscha-Fahrten in Siegburg14. August 20240 KommentareZugehöriges Projekt:\\n            Angebotslandkarte75+Geselliges BeisammenseinAusfahrten mit der Fahrrad Rikscha in die nähere Umgebung sind immer ein besonderes Erlebnis !Wir laden ältere Menschen, die in Siegburg wohnen und in ihrer Mobilität eingeschränkt sind, herzlich zu einer Ausfahrt mit der Fahrrad Rikscha ein.Ob allein oder zu zweit, mit einem freundlichen\\xa0ehrenamtlichen\\xa0Rikscha-Fahrer geht es auf eine Tour, die für die Fahrgäste kostenfrei ist. Der Termin ist wetterabhängig, das Ziel wird gemeinsam festgelegt. Vielleicht an der Sieg entlang, in den Nachbarort oder eine kleine Rundfahrt durch die Stadtteile Siegburgs ?Die Rikscha Ausfahrten sind das Kooperationsprojekt des\\xa0evangelischen\\xa0Vereins für Altenhilfe e.V.i.L., des\\xa0evangelischenKirchenkreises An Sieg und Rhein, des Radfahrervereins 1894 Siegburg e.V. und der Aktiven Senioren Siegburg der Johanniter. Die Kooperationspartner verfolgen das gemeinsame Ziel, der Vereinsamung älterer Menschen durch neue Kontakte vorzubeugen, Ihnen Zeit und ein offenes Ohr zu schenken sowie auf Wunsch\\xa0weitere\\xa0Unterstützung anzubieten.Sie möchten mit der Rikscha fahren ? Melden Sie sich gerne !Aktive Senioren Siegburg der JohanniterEike HundhausenE-Mail:eike.hundhausen@johanniter.deTel.02241 - 60 931Kommentare(0)Um fortzufahren, müssen Sie sichanmeldenoderregistrieren.EEike HundhausenBeigetreten am: 11.10.2023Konto ist nicht verifiziertVorschläge2Unterstützer*innenUnterstützer*innenUnterstützung4 Unterstützer*innenUm fortzufahren, müssen Sie sichanmeldenoderregistrieren.TeilenTeilenwhatsapp', 'https://mitmachen.siegburg.de/proposals/1051-mach-was-freiwillig-ehrenamt-und-engagement': 'Mach was freiwillig!\\r\\n\\r\\nEhrenamt und Engagement12. August 20240 KommentareZugehöriges Projekt:\\n            Angebotslandkarte0-1213-1718-2425-4950-5960-7475+Hilfe & BeratungDie\\xa0Freiwilligen-Agentur für den Rhein-Sieg-Kreisist ein Fachbereich der Diakonie An Sieg und Rhein und wurde im Jahr 2003 gegründet. Sie wird gefördert vom Rhein-Sieg-Kreis, ist Mitglied der bagfa (Bundesarbeitsgemeinschaft der Freiwilligenagenturen), Kooperationspartner der Aktion Mensch und arbeitet eng mit den Städten und Gemeinden im Rhein-Sieg-Kreis zusammen.Bürger*innen, die sich ehrenamtlich in einer Organisation, einem Verein, einem Verband oder einer Gemeinde einbringen möchten und Organisationen, die mit Ehrenamtlichen arbeiten, finden hier Beratung und Unterstützung.In unserer digitalenEngagementbörsefinden Sie vielfältige Möglichkeiten, sich ehrenamtlich im Rhein-Sieg-Kreis zu engagieren.Beratung und Vermittlung sind kostenlos. Über die Engagementbörse können alle gemeinnützigen Vereine, Verbände und Organisationen kostenlos neue Freiwillige finden.KontaktdatenDas haupt- und ehrenamtliche Team der Freiwilligen-AgenturRingstraße 2, 53721 SiegburgTelefon : 02241 / 2 52 15-20Telefax : 02241 / 2 52 15-30Mail:freiwilligen-agentur@diakonie-sieg-rhein.deInternet:Freiwilligenagentur für den Rhein-Sieg-KreisEngagementbörse:www.diakonie-sieg-rhein.de/engagementboerse/Kommentare(0)Um fortzufahren, müssen Sie sichanmeldenoderregistrieren.Freiwilligen-Agentur für den Rhein-Sieg-KreisBeigetreten am: 12.08.2024Konto ist nicht verifiziertVorschläge1Unterstützer*innenUnterstützer*innenUnterstützung2 Unterstützer*innenUm fortzufahren, müssen Sie sichanmeldenoderregistrieren.TeilenTeilenwhatsapp', 'https://mitmachen.siegburg.de/proposals/1049-generationen-parcours': 'Generationen-Parcours08. August 20240 KommentareZugehöriges Projekt:\\n            Angebotslandkarte0-1213-1718-2425-4950-5960-7475+BewegungDie Outdoor Fitness Anlage am Michaelsberg unterstützt Jung und Alt mit einer großen Auswahl an Geräten die körperliche Fitness zu erhalten und zu verbessern. Die Geräte können individuell eingestellt werden, hilfreiche Tafeln erklären die korrekte Anwendung.Auf in den Boden gelassenen Matten, können weitere Übungen ausgeführt werden.Für die Nutzung entstehen keine Kosten!Bitte stell vor Benutzung sicher, dass keine medizinischen Gründen gegen die Nutzung der Geräte sprechen.Kommentare(0)Um fortzufahren, müssen Sie sichanmeldenoderregistrieren.AAGBeigetreten am: 15.03.2024Konto verifiziertVorschläge17Kommentare11Unterstützer*innenUnterstützer*innenUnterstützung0 Unterstützer*innenUm fortzufahren, müssen Sie sichanmeldenoderregistrieren.TeilenTeilenwhatsapp', 'https://mitmachen.siegburg.de/proposals/1041-erlebe-abenteuer-mit-den-annopfadfinder-innen': 'Erlebe Abenteuer mit den Annopfadfinder*innen!17. Juli 20240 KommentareZugehöriges Projekt:\\n            Angebotslandkarte0-1213-1718-24Geselliges BeisammenseinWir sind diePfadfinder*innen vom Stamm St. Anno(DPSG) in Siegburg Brückberg. In vier Altersstufen treffen sich die Pfadfinder und sind kreativ, aktiv und vor allem in Gemeinschaft. Pfadfinden bietet Kindern und Jugendlichen zahlreiche Abenteuer: mit Freund*innen Spaß haben,\\xa0gemeinsam in der Natur unterwegs sein,\\xa0Neues entdecken und ausprobieren sowie\\xa0zusammen in der Gruppe das eigene Umfeld gestalten.Du möchtest uns kennenlernen? Dann schreib uns unterleiterrunde@dpsg-st-anno.deWir treffen uns immer montags zu den Gruppenstunden. In den Schulferien finden keine Treffen statt.Besuch uns auch auf Instagram: anno_pfadfinderWir freuen uns auf dich :)Kommentare(0)Um fortzufahren, müssen Sie sichanmeldenoderregistrieren.NPfadfinder St. AnnoBeigetreten am: 17.07.2024Konto verifiziertVorschläge1Unterstützer*innenUnterstützer*innenUnterstützung1 Unterstützer*inUm fortzufahren, müssen Sie sichanmeldenoderregistrieren.TeilenTeilenwhatsapp', 'https://mitmachen.siegburg.de/proposals/1038-werkstatt-deutsch-lernen': 'Werkstatt Deutsch lernen09. Juli 20240 KommentareZugehöriges Projekt:\\n            Angebotslandkarte13-1718-2425-4950-5960-7475+BildungDer SKM Rhein-Sieg bietet allen Menschen mit Flucht- und Migrationshintergrund ein kostenlosen Nachhilfe- bzw. Deutschlernangebot. Das Angebot ist nicht für Null-Sprachler geeignet, es istkein Alphabetisierungskurs. Die Werkstatt dient als Ergänzung zu bestehenden Sprach- und Integrationskursen, zur Prüfungsvorbereitung oder als Überbrückungsangebot bis zum nächsten Sprachkurs.Bitte kommen Sie einfach vorbei.MarienheimBambergstraße 39,53721 SiegburgJeden Donnerstag von 17:30-19:30 UhrBei Fragen können Sie sich gerne an Daniela Schmid (02241 177851/daniela.schmid@skm-rhein-sieg.de) oder Katharina Limbach (02241 177853/katharina.limbach@skm-rhein-sieg.de) wenden.Kommentare(0)Um fortzufahren, müssen Sie sichanmeldenoderregistrieren.AAGBeigetreten am: 15.03.2024Konto verifiziertVorschläge17Kommentare11Unterstützer*innenUnterstützer*innenUnterstützung0 Unterstützer*innenUm fortzufahren, müssen Sie sichanmeldenoderregistrieren.TeilenTeilenwhatsapp', 'https://mitmachen.siegburg.de/proposals/1033-chorgemeinschaft-germania-swingphonie-siegburg': 'Chorgemeinschaft Germania Swingphonie Siegburg20. Juni 20240 KommentareZugehöriges Projekt:\\n            Angebotslandkarte18-2425-4950-5960-7475+MusikDu bist neu in der Stadt, brauchst auf jeden Fall dringend Abwechslung oder fühlst dich einsam? Dann komm vorbei zum Singen! Die Swingphonie ist ein super netter Haufen, bei uns ist stressfreie Zone.\\xa0Spaß und gute Laune garantiert, einen wirksameren und gesünderen Stimmungsaufheller findest du kaum. Wir freuen uns auf dich!Adresse:Am Viehtrift 53, Hans-Josef Bargon, 53721 Siegburg, DeutschlandAnsprechpartner:Angela Recino, Telefonnummer:+49\\xa02241\\xa0384\\xa0184,vorsitzender@bewegtkommunikation.deKommentare(0)Um fortzufahren, müssen Sie sichanmeldenoderregistrieren.JJenniferBeigetreten am: 20.06.2024Konto verifiziertVorschläge5Unterstützer*innenUnterstützer*innenUnterstützung1 Unterstützer*inUm fortzufahren, müssen Sie sichanmeldenoderregistrieren.TeilenTeilenwhatsapp', 'https://mitmachen.siegburg.de/proposals/1032-willkommen-beim-siegburger-madrigalchor': 'Willkommen beim Siegburger Madrigalchor20. Juni 20240 KommentareZugehöriges Projekt:\\n            Angebotslandkarte18-2425-4950-5960-7475+MusikDer Siegburger Madrigalchor ist ein mehrstimmiger gemischter Laienchor, der 1968 gegründet wurde.\"Madrigale\" sind mehrstimmige weltliche, auch anspruchsvolle Lieder, die vor allem im 16. und 17. Jahrhundert für den europäischen Chorgesang prägend waren, als Liedform aber nicht auf diesen Zeitraum beschränkt sind. An diesem Grundgedanken richtet sich auch unser Repertoire aus, das weltliche und geistliche Chorsätze aus fünf Jahrhunderten und unterschiedlichsten Genres umfasst. Dass es dem Siegburger Madrigalchor auch um Leistung geht, dokumentiert der mehrfach erworbene Titel \"Meisterchor\" im Sängerbund Nordrhein-Westfalen.Probe: montags, 20.00 Uhr bis 21.30 Uhr in der Erlöserkirche, Jahnstraße 2Ansprechpartner: Günther Heger (02241 14 74 70)Kommentare(0)Um fortzufahren, müssen Sie sichanmeldenoderregistrieren.JJenniferBeigetreten am: 20.06.2024Konto verifiziertVorschläge5Unterstützer*innenUnterstützer*innenUnterstützung1 Unterstützer*inUm fortzufahren, müssen Sie sichanmeldenoderregistrieren.TeilenTeilenwhatsapp', 'https://mitmachen.siegburg.de/proposals/1031-chor-cantiamo-kaldauen': 'Chor \"Cantiamo\" Kaldauen20. Juni 20240 KommentareZugehöriges Projekt:\\n            Angebotslandkarte0-1213-1718-2425-4950-5960-7475+MusikDer Chor \"Cantiamo\" freut sich sehr über neue Mitsängerinnen und Mitsänger. Seien Sie herzlich willkommen!Ansprechpartner ist Herr Bernd Schaboltas (02241-146 82 43).Kommentare(0)Um fortzufahren, müssen Sie sichanmeldenoderregistrieren.JJenniferBeigetreten am: 20.06.2024Konto verifiziertVorschläge5Unterstützer*innenUnterstützer*innenUnterstützung1 Unterstützer*inUm fortzufahren, müssen Sie sichanmeldenoderregistrieren.TeilenTeilenwhatsapp', 'https://mitmachen.siegburg.de/proposals/1030-sommerferien-workshop-self-defense-4-girls': 'Sommerferien-Workshop:\\r\\nSelf-defense 4 Girls19. Juni 20240 KommentareZugehöriges Projekt:\\n            Angebotslandkarte13-17BewegungIn der1. Sommerferien Woche(08.07.24 - 12.07.24) haben wir,Selbstverteidigung - Gewaltprävention André u. Ann-Sophie Hertel,in Kooperation mit demJUZE DeichhausfürMädchenundjunge Frauen im Alter von 12-17einWorkshop-Angebot.Für die Teilnehmerinnen ist das Angebotkostenfrei.Self-defense 4 GirlSelbstverteidigung und Selbstbehauptung für Mädchen und junge FrauenIn ihrem Alltag erleben Mädchen und junge Frauen immer wieder Situationen, in denen es zu Konflikten oder Übergriffen unterschiedlicher Art kommt. Oft wissen Betroffene sich nicht zu helfen oder zu verteidigen und tolerieren die Situation aus unterschiedlichen Gründen über die eigentliche persönliche Grenze hinaus. Häufig wird die Situation zu spät erkannt, so dass sie nicht im Vorfeld vermieden werden konnte.Im Kurs wird individuell mit den Teilnehmerinnen gearbeitet, also mit ihnen besprochen, was für sie wichtig ist.https://dein-kungfu.de/aktuelles/Wo könnt ihr euch anmelden?Die Anmeldung läuft über das JUZE Deichhaus:E-Mail:Patrick.Mendel@kja-bonn.deTel.: 02241-9595515Mobil: 017614002274Wo findet der Workshop statt?JUZE DeichhausFrankfurter Str. 9053721 SiegburgWann findet der Workshop statt?In der 1. Sommerferien Woche (08.07. - 12.07.)von 10:30 - 14:30 UhrWas machen wir mit euch?Selbstverteidigung & Selbstbehauptung für Mädchen und junge Frauen.Ihr lernt, wie ihr euch in Notfallsituationen verteidigen könnt.Für wen ist dieser Workshop?Für Mädchen und junge Frauen zwischen 12 - 17 Jahren.Was braucht ihr, um mitzumachen?Bequeme Kleidung (z.B. Sportkleidung) und etwas zum Trinken.Dein-KungFu.deKommentare(0)Um fortzufahren, müssen Sie sichanmeldenoderregistrieren.ADein-KungFuBeigetreten am: 19.06.2024Konto verifiziertVorschläge2Unterstützer*innenUnterstützer*innenUnterstützung1 Unterstützer*inUm fortzufahren, müssen Sie sichanmeldenoderregistrieren.TeilenTeilenwhatsapp', 'https://mitmachen.siegburg.de/proposals/1029-selbstverteidigung-gewaltpravention-teambuilding-und-betriebssport': 'Selbstverteidigung, Gewaltprävention, Teambuilding und Betriebssport19. Juni 20240 KommentareZugehöriges Projekt:\\n            Angebotslandkarte0-1213-1718-2425-4950-5960-7475+BewegungSelbstverteidigung - GewaltpräventionAndré u.\\xa0Ann-Sophie HertelWas:AG - Workshops - Kurse - Projekte - Kleingruppen - EinzelunterrichtFür:Schulen, Kitas, Kinder- und Jugendeinrichtungen, Rettungskräfte, usw.Wo:Wir kommen zu euch - ihr braucht nur passende RäumlichkeitenWann:Nach AbspracheWebsite:Dein-KungFu.deKommentare(0)Um fortzufahren, müssen Sie sichanmeldenoderregistrieren.ADein-KungFuBeigetreten am: 19.06.2024Konto verifiziertVorschläge2Unterstützer*innenUnterstützer*innenUnterstützung1 Unterstützer*inUm fortzufahren, müssen Sie sichanmeldenoderregistrieren.DokumenteFlyer.pdfTeilenTeilenwhatsapp', 'https://mitmachen.siegburg.de/proposals/1027-verfahrenslotsin-fur-eingliederungshilfe-inklusive-jugendhilfe': 'Verfahrenslotsin für Eingliederungshilfe / Inklusive Jugendhilfe17. Juni 20240 KommentareZugehöriges Projekt:\\n            Angebotslandkarte0-1213-1718-2425-49Hilfe & BeratungUnabhängige, vertrauliche und kostenfreie Beratung, Begleitung und Unterstützung von jungen Menschen aus Siegburg (0 bis 27 Jahre) mit (drohender) Behinderung und deren Familien / Unterstützer:innen.Die Beratung erfolgt gem. § 10 b SGB VIII zum Thema Eingliederungshilfeleistungen (SGB VIII und SGB IX) in allen Lebensbereichen.Telefon:+49 2241 102-1826Mail:stefanie.lachmund@siegburg.deKommentare(0)Um fortzufahren, müssen Sie sichanmeldenoderregistrieren.Sstefanie.lachmundBeigetreten am: 17.06.2024Konto ist nicht verifiziertVorschläge1Unterstützer*innenUnterstützer*innenUnterstützung1 Unterstützer*inUm fortzufahren, müssen Sie sichanmeldenoderregistrieren.DokumenteFlyer__Verfahrenslotse_Siegburg.pdfTeilenTeilenwhatsapp', 'https://mitmachen.siegburg.de/proposals/1022-bibelgesprachskreis': 'Bibelgesprächskreis17. Juni 20240 KommentareZugehöriges Projekt:\\n            Angebotslandkarte18-2425-4950-5960-7475+GlaubeGemeinsame Gespräche über Gott und die Welt.Bei Interesse und näheren Informationen wenden Sie sich an Frau Cron-Böngeler unter 02241 381327Kommentare(0)Um fortzufahren, müssen Sie sichanmeldenoderregistrieren.DDaReBeigetreten am: 19.03.2024Konto ist nicht verifiziertVorschläge8Unterstützer*innenUnterstützer*innenUnterstützung1 Unterstützer*inUm fortzufahren, müssen Sie sichanmeldenoderregistrieren.TeilenTeilenwhatsapp', 'https://mitmachen.siegburg.de/proposals/1021-gemeindefruhstuck': 'Gemeindefrühstück17. Juni 20240 KommentareZugehöriges Projekt:\\n            Angebotslandkarte18-2425-4950-5960-7475+KulinarischesAm letzten Donnerstag im Monat wird um 9 Uhr im gemütlichen Rahmen gemeinsam gefrühstückt. Anmeldung bitte bis Dienstagmorgen unter 02241 381327 oder 02241 917592.Bei Bedarf holen wir Sie auf Anfrage auch zu Hause ab.Kommentare(0)Um fortzufahren, müssen Sie sichanmeldenoderregistrieren.DDaReBeigetreten am: 19.03.2024Konto ist nicht verifiziertVorschläge8Unterstützer*innenUnterstützer*innenUnterstützung1 Unterstützer*inUm fortzufahren, müssen Sie sichanmeldenoderregistrieren.TeilenTeilenwhatsapp', 'https://mitmachen.siegburg.de/proposals/1020-einfach-hygge-lig': 'Einfach hygge-lig17. Juni 20240 KommentareZugehöriges Projekt:\\n            Angebotslandkarte18-2425-4950-5960-7475+Geselliges BeisammenseinDie Evangelische Kirche Siegburg-Kaldauen bietet monatlich Events für Erwachsene mit wechselnden Angeboten.Am 06. September um 19 Uhr wird aus dem Nähkästchen geplaudert. Es wird ein Abend voller (Lebens-)Geschichten. Wer etwas aus seinem Leben erzählen möchte, wendet sich bitte vorher an Beate Gehrmann unterbeate.gehrmann@ekir.de. Zum zuhören und miterleben sind Sie herzlich willkommen!Am 06. Oktober wird um 10 Uhr zum Frühstücks-Gottesdienst eingeladen. Wir frühstücken gemeinsam während des Gottesdienstes.Am 08. November wird ein gemeinsamer Leseabend stattfinden. Freuen Sie sich auf gemütliche Stunden mit abwechselungsreicher Literatur.Friedensstraße 13, 53721 Siegburg-KaldauenKommentare(0)Um fortzufahren, müssen Sie sichanmeldenoderregistrieren.DDaReBeigetreten am: 19.03.2024Konto ist nicht verifiziertVorschläge8Unterstützer*innenUnterstützer*innenUnterstützung1 Unterstützer*inUm fortzufahren, müssen Sie sichanmeldenoderregistrieren.TeilenTeilenwhatsapp', 'https://mitmachen.siegburg.de/proposals/1019-cafe-65plus': 'Café 65plus17. Juni 20240 KommentareZugehöriges Projekt:\\n            Angebotslandkarte60-7475+Geselliges BeisammenseinDie Evangelische Kirchengemeinde Siegburg lädt ein zu Gesprächen in Gemeinschaft über Gott und die Welt bei Kaffee und Kuchen.Jeden 2. und 4. Mitttwoch im Monat von 15.00 bis 16.30 Uhr im Evangelischen Gemeindezentrum an der Annostraße 14, Siegburg (in den Ferien finden keine Treffen statt)!Nur mit Anmeldung unter 02241 - 9698825 oder 02241 96988-0Kommentare(0)Um fortzufahren, müssen Sie sichanmeldenoderregistrieren.AAGBeigetreten am: 15.03.2024Konto verifiziertVorschläge17Kommentare11Unterstützer*innenUnterstützer*innenUnterstützung0 Unterstützer*innenUm fortzufahren, müssen Sie sichanmeldenoderregistrieren.TeilenTeilenwhatsapp', 'https://mitmachen.siegburg.de/proposals/1018-bistro-pauline-fur-sie-geoffnet': 'Bistro Pauline - für Sie geöffnet!16. Juni 20240 KommentareZugehöriges Projekt:\\n            Angebotslandkarte0-1213-1718-2425-4950-5960-7475+Geselliges BeisammenseinFrisch auf den Tisch:Montags bis freitags zwischen 12 und 14 Uhrserviert Ihnen unser Küchenteam ein warmes Mittagessen zum Preis von 4,80 € (Kinderportion 2,80 €).Dienstagskönnen Sie in unserem Bistroauch Kaffeespezialitäten und Kuchengenießen. Am Dienstag haben wir von 12 Uhrbis durchgehend um 17 Uhrfür Sie geöffnet.Kommen Sie zum Essen zu uns, begegnen Sie neuen Menschen – und fühlen Sie sich als Teil unserer großen Pauline-Familie!Wir freuen uns auf Sie!Wenn Sie mögen, können Sie Ihr Essenauch mit nach Hause nehmen.Gerne können Sie Ihre eigenen Behältnisse mitbringen, um das Essen zu transportieren.Bistro Pauline im Kinderheim Pauline von MallinckrodtJakobstraße 16,\\xa053721 SiegburgTel.: (02241) 5496-0,\\xa0Fax: (02241) 5496-35info@kinderheim-pauline.dehttps://www.kinderheim-pauline.deKommentare(0)Um fortzufahren, müssen Sie sichanmeldenoderregistrieren.SSonja BoddenbergBeigetreten am: 28.05.2024Konto ist nicht verifiziertVorschläge2Unterstützer*innenUnterstützer*innenUnterstützung2 Unterstützer*innenUm fortzufahren, müssen Sie sichanmeldenoderregistrieren.DokumenteFlyer_Image Einzelseiten_230209.pdfTeilenTeilenwhatsapp', 'https://mitmachen.siegburg.de/proposals/1017-kinderheim-pauline-von-mallinckrodt': 'Kinderheim Pauline von Mallinckrodt16. Juni 20240 KommentareZugehöriges Projekt:\\n            Angebotslandkarte0-1213-1718-24Hilfe & BeratungSeit 1903 unterstützt das Kinderheim Pauline von Mallinckrodt (Mitglied des Deutschen Caritasverbandes) in Not und Krisen geratene junge Menschen und ihre Familien. Als anerkannter gemeinnütziger freier Träger der Jugendhilfe betreuen wir ca.140Kinder, Jugendliche, junge Volljährige und Mütterin 18 unterschiedlichen Gruppen – auf unserem Stammgelände in Siegburg-Wolsdorf und in 6 Außenwohngruppen, die jeweils wenige Autominuten entfernt liegen.Unser Ziel: Jungen Menschen bei der Aufarbeitung ihrer Entwicklungsrückstände im emotionalen, sozialen und kognitiven Bereichmit sozialpädagogischen und therapeutischen Angeboten zu helfen.\\xa0Zukünftig wollen wirinklusivarbeiten und auch behinderten Kindern und Jugendlichen ein Zuhause bieten.Kinderheim Pauline von MallinckrodtJakobstraße 16,\\xa053721 SiegburgTel.: (02241) 5496-0,\\xa0Fax: (02241) 5496-35info@kinderheim-pauline.dehttps://www.kinderheim-pauline.deKommentare(0)Um fortzufahren, müssen Sie sichanmeldenoderregistrieren.SSonja BoddenbergBeigetreten am: 28.05.2024Konto ist nicht verifiziertVorschläge2Unterstützer*innenUnterstützer*innenUnterstützung1 Unterstützer*inUm fortzufahren, müssen Sie sichanmeldenoderregistrieren.DokumenteFlyer_Image Einzelseiten_230209.pdfFlyer_FSJ-ler_24012025.pdfTeilenTeilenwhatsapp', 'https://mitmachen.siegburg.de/proposals/1015-pfadfinder-innen-gruppenstunde-und-aktionen': 'Pfadfinder*innen Gruppenstunde und Aktionen13. Juni 20240 KommentareZugehöriges Projekt:\\n            Angebotslandkarte0-1213-1718-24Geselliges BeisammenseinWir sind die Pfadfinder*innen auf dem Deichhaus. In vier Altersstufen machen die Mädchen Aktivitäten, sind kreativ und haben Spaß.Wir sind immer offen für neue Gesichter und freuen uns, wenn auch deine Tochte, Enkelin, Freundin oder Nachbarin bei uns vorbeikommt.Neben monatlichen Gruppenstunden fahren wir auf gemeinsame Wochenenden, Lager und machen Tagesaktionen.Bei Interesse kannst du dich immer beim Stammesvorstand melden.Siegburg@pfadfinderinnen-koeln.deoder unter 015777034434.Kommentare(0)Um fortzufahren, müssen Sie sichanmeldenoderregistrieren.EEmiliaMitchyBeigetreten am: 14.11.2022Konto verifiziertVorschläge2Unterstützer*innenUnterstützer*innenUnterstützung3 Unterstützer*innenUm fortzufahren, müssen Sie sichanmeldenoderregistrieren.TeilenTeilenwhatsapp'}\n"
     ]
    }
   ],
   "source": [
    "link_and_data = {}\n",
    "\n",
    "for link in links:\n",
    "    response = requests.get(link)\n",
    "\n",
    "    if response.status_code == 200:\n",
    "        soup = BeautifulSoup(response.content, 'html.parser')\n",
    "\n",
    "        divs = soup.find_all('div', class_='flex-layout')\n",
    "        content = divs[1]\n",
    "\n",
    "        text_content = content.get_text(strip=True)\n",
    "\n",
    "        link_and_data[link] = text_content\n",
    "        \n",
    "    else:\n",
    "        message = \"Failed to retrieve the webpage. Status code:\", response.status_code\n",
    "        link_and_data[link] = message\n",
    "\n",
    "print(link_and_data)"
   ]
  },
  {
   "cell_type": "code",
   "execution_count": 12,
   "metadata": {},
   "outputs": [
    {
     "data": {
      "text/plain": [
       "0    https://mitmachen.siegburg.de/proposals/1090-s...\n",
       "1    https://mitmachen.siegburg.de/proposals/1089-d...\n",
       "2    https://mitmachen.siegburg.de/proposals/1087-g...\n",
       "3    https://mitmachen.siegburg.de/proposals/1056-g...\n",
       "4    https://mitmachen.siegburg.de/proposals/1055-b...\n",
       "Name: URL, dtype: object"
      ]
     },
     "execution_count": 12,
     "metadata": {},
     "output_type": "execute_result"
    }
   ],
   "source": [
    "# Convert the dictionary to a DataFrame\n",
    "df = pd.DataFrame(list(link_and_data.items()), columns=['URL', 'Content'])\n",
    "\n",
    "df['URL'][:5]"
   ]
  },
  {
   "cell_type": "code",
   "execution_count": 13,
   "metadata": {},
   "outputs": [
    {
     "data": {
      "text/plain": [
       "(24, 2)"
      ]
     },
     "execution_count": 13,
     "metadata": {},
     "output_type": "execute_result"
    }
   ],
   "source": [
    "df.shape"
   ]
  },
  {
   "cell_type": "code",
   "execution_count": 14,
   "metadata": {},
   "outputs": [
    {
     "data": {
      "text/plain": [
       "'Senioiren Cafe Lichtblick Kaldauen18. September 20240 KommentareZugehöriges Projekt:\\n            Angebotslandkarte60-7475+Geselliges BeisammenseinDas Cafe Lichtblick in Kaldauen lädt alle Senioren zum geselligen Beisammensein bei Kaffee und Kuchen ein. Es wird gesungen, gespielt, getanzt, gelacht und viel erzählt. Auch gemeinsame Ausflüge und Feiern stehen auf dem Programm.Haben Sie Interesse, dann kommen Sie gerne vorbei. Die Senioren und das Team freut sich auf Sie!Treffen : Alle 14 Tage Dienstags von 15.00 - 17.00 Uhr\\xa0(immer in geraden Wochen)Ort : Pfarrheim der katholischen Kirche KaldauenAntoniusweg 1 ;\\xa053721 SiegburgAnmeldungen bei Rita Quadt ; Tel.:\\xa0015733725174:Kommentare(0)Um fortzufahren, müssen Sie sichanmeldenoderregistrieren.MCafé LichtblickBeigetreten am: 18.09.2024Konto verifiziertVorschläge1Unterstützer*innenUnterstützer*innenUnterstützung0 Unterstützer*innenUm fortzufahren, müssen Sie sichanmeldenoderregistrieren.TeilenTeilenwhatsapp'"
      ]
     },
     "execution_count": 14,
     "metadata": {},
     "output_type": "execute_result"
    }
   ],
   "source": [
    "# Display the resulting DataFrame to the user\n",
    "df['Content'][0]"
   ]
  },
  {
   "cell_type": "code",
   "execution_count": 15,
   "metadata": {},
   "outputs": [
    {
     "data": {
      "text/plain": [
       "'Senioiren Cafe Lichtblick Kaldauen18. September 20240 KommentareZugehöriges Projekt:\\n            Angebotslandkarte60-7475+Geselliges BeisammenseinDas Cafe Lichtblick in Kaldauen lädt alle Senioren zum geselligen Beisammensein bei Kaffee und Kuchen ein. Es wird gesungen, gespielt, getanzt, gelacht und viel erzählt. Auch gemeinsame Ausflüge und Feiern stehen auf dem Programm.Haben Sie Interesse, dann kommen Sie gerne vorbei. Die Senioren und das Team freut sich auf Sie!Treffen : Alle 14 Tage Dienstags von 15.00 - 17.00 Uhr\\xa0(immer in geraden Wochen)Ort : Pfarrheim der katholischen Kirche KaldauenAntoniusweg 1 ;\\xa053721 SiegburgAnmeldungen bei Rita Quadt ; Tel.:\\xa0015733725174:Kommentare(0)Um fortzufahren, müssen Sie sichanmeldenoderregistrieren.MCafé LichtblickBeigetreten am: 18.09.2024Konto verifiziertVorschläge1Unterstützer*innenUnterstützer*innenUnterstützung0 Unterstützer*innenUm fortzufahren, müssen Sie sichanmeldenoderregistrieren.TeilenTeilenwhatsapp'"
      ]
     },
     "execution_count": 15,
     "metadata": {},
     "output_type": "execute_result"
    }
   ],
   "source": [
    "df['Content'][0]"
   ]
  },
  {
   "cell_type": "code",
   "execution_count": 16,
   "metadata": {},
   "outputs": [],
   "source": [
    "import re\n",
    "\n",
    "# Enhanced function to extract all logical parts, including \"Unterstützer*innen\"\n",
    "def extract_full_data_with_supporters(content):\n",
    "    # Extract title (everything before the first date)\n",
    "    title_match = re.search(r'^(.*?)(\\r|\\d{1,2}\\.\\s\\w+\\s\\d{4})', content)\n",
    "    title = title_match.group(1).strip() if title_match else None\n",
    "\n",
    "    # Extract date\n",
    "    date_match = re.search(r'\\d{1,2}\\.\\s\\w+\\s\\d{4}', content)\n",
    "    date = date_match.group(0) if date_match else None\n",
    "\n",
    "    # Extract comments count\n",
    "    comments_match = re.search(r'(\\d+)\\sKommentare', content)\n",
    "    comments = int(comments_match.group(1)) if comments_match else 0\n",
    "\n",
    "    # Extract tags (sections with numbers or + signs)\n",
    "    tags_match = re.findall(r'(\\d{1,2}[-+]\\d{1,2}|\\d{2}\\+)', content)\n",
    "    tags = ', '.join(tags_match) if tags_match else None\n",
    "\n",
    "    # Extract description (everything after \"Geselliges Beisammensein\" or similar patterns)\n",
    "    description_start = re.search(r'(Geselliges Beisammensein|Angebotslandkarte)', content)\n",
    "    description = content[description_start.start():].strip() if description_start else None\n",
    "\n",
    "    # Extract username\n",
    "    username_match = re.search(r'(\\w+\\s\\w+|Beigetreten am:.*?\\d{4})', content)\n",
    "    username = username_match.group(1).split('Beigetreten am:')[0].strip() if username_match else None\n",
    "\n",
    "    # Extract Vorschläge count\n",
    "    vorschlaege_match = re.search(r'Vorschläge(\\d+)', content)\n",
    "    vorschlaege = int(vorschlaege_match.group(1)) if vorschlaege_match else 0\n",
    "\n",
    "    # Extract Konto verification status\n",
    "    konto_match = re.search(r'(Konto\\s(verifiziert|ist nicht verifiziert))', content)\n",
    "    konto_status = konto_match.group(2) if konto_match else None\n",
    "\n",
    "    # # Extract registration date\n",
    "    # registration_match = re.search(r'Beigetreten am:\\s(\\d{1,2}\\.\\s\\w+\\s\\d{4})', content)\n",
    "    # registration_date = registration_match.group(1) if registration_match else None\n",
    "\n",
    "    # Extract number of Unterstützer*innen\n",
    "    supporters_match = re.search(r'(\\d+)\\sUnterstützer\\*in', content)\n",
    "    supporters = int(supporters_match.group(1)) if supporters_match else 0\n",
    "\n",
    "    return title, date, comments, tags, description, username, vorschlaege, konto_status, supporters\n",
    "\n",
    "# Apply the enhanced function to the DataFrame and create new columns\n",
    "df[['Title', 'Date', 'Comments', 'Tags', 'Description', 'Username', 'Vorschläge', 'Konto Status', 'Supporters']] = df['Content'].apply(\n",
    "    lambda x: pd.Series(extract_full_data_with_supporters(x))\n",
    ")\n"
   ]
  },
  {
   "cell_type": "code",
   "execution_count": 17,
   "metadata": {},
   "outputs": [
    {
     "name": "stderr",
     "output_type": "stream",
     "text": [
      "C:\\Users\\User\\AppData\\Local\\Temp\\ipykernel_29292\\2378994937.py:1: FutureWarning: A value is trying to be set on a copy of a DataFrame or Series through chained assignment using an inplace method.\n",
      "The behavior will change in pandas 3.0. This inplace method will never work because the intermediate object on which we are setting values always behaves as a copy.\n",
      "\n",
      "For example, when doing 'df[col].method(value, inplace=True)', try using 'df.method({col: value}, inplace=True)' or df[col] = df[col].method(value) instead, to perform the operation inplace on the original object.\n",
      "\n",
      "\n",
      "  df['Comments'].replace(20240, 0, inplace=True)\n"
     ]
    }
   ],
   "source": [
    "df['Comments'].replace(20240, 0, inplace=True)"
   ]
  },
  {
   "cell_type": "code",
   "execution_count": 18,
   "metadata": {},
   "outputs": [
    {
     "data": {
      "text/plain": [
       "'Geselliges Beisammensein in Braschoß18. August 20240 KommentareZugehöriges Projekt:\\n            Angebotslandkarte18-2425-4950-5960-7475+Geselliges BeisammenseinDer \"Pfarrverein Braschoß\" lädt regelmäßig zum geselligen Beisammensein nach Braschoß ein:- Skatabende- Leseabende- Spielabend- ...Konkrete Veranstaltungen werden unterhttps://www.pfarrverein-braschoss.de/aktuelles.htmlveröffentlicht.Gerne informieren wir Sie per Mail über neue Veranstaltungen:https://www.pfarrverein-braschoss.de/newsletter.htmlAlle interessierte Bürger:innen\\xa0 sind herzlich willkommen. In der Veranstaltungsübersicht ist vermerkt, wenn vorab eine Anmeldung erforderlich ist.Die Veranstaltungen finden in 53721 Siegburg-Braschoß, Braschosser Str. 50 statt.Kommentare(0)Um fortzufahren, müssen Sie sichanmeldenoderregistrieren.KEEBeigetreten am: 20.11.2022Konto verifiziertVorschläge3Unterstützer*innenUnterstützer*innenUnterstützung4 Unterstützer*innenUm fortzufahren, müssen Sie sichanmeldenoderregistrieren.DokumentePfarrverein Braschoß - Veranstaltungsuebersicht - 2024 - 2. Halbjahr.pdfTeilenTeilenwhatsapp'"
      ]
     },
     "execution_count": 18,
     "metadata": {},
     "output_type": "execute_result"
    }
   ],
   "source": [
    "df['Content'][3]"
   ]
  },
  {
   "cell_type": "code",
   "execution_count": 19,
   "metadata": {},
   "outputs": [
    {
     "data": {
      "text/plain": [
       "'https://mitmachen.siegburg.de/proposals/1056-geselliges-beisammensein-in-braschoss'"
      ]
     },
     "execution_count": 19,
     "metadata": {},
     "output_type": "execute_result"
    }
   ],
   "source": [
    "df['URL'][3]"
   ]
  },
  {
   "cell_type": "code",
   "execution_count": 20,
   "metadata": {},
   "outputs": [
    {
     "data": {
      "text/plain": [
       "'https://mitmachen.siegburg.de/proposals/1087-gemeinschaftsgarten-cecilienstrasse'"
      ]
     },
     "execution_count": 20,
     "metadata": {},
     "output_type": "execute_result"
    }
   ],
   "source": [
    "df['URL'][2]"
   ]
  },
  {
   "cell_type": "code",
   "execution_count": 21,
   "metadata": {},
   "outputs": [],
   "source": [
    "# Function to clean description considering keywords, numeric patterns, and refined starting logic\n",
    "def clean_description_advanced(content):\n",
    "    # Define keywords that mark the beginning of the description\n",
    "    keywords = [\n",
    "        'Geselliges Beisammensein', 'Natur', 'Hilfe & Beratung', 'Bildung', \n",
    "        'Musik', 'Bewegung', 'Glaube', 'Kulinarisches', 'Kunst & Kultur', 'Sonstiges',\n",
    "    ]\n",
    "    \n",
    "    # Check for keywords first\n",
    "    for keyword in keywords:\n",
    "        if keyword in content:\n",
    "            start_idx = content.find(keyword) + len(keyword)\n",
    "            description = content[start_idx:].strip()\n",
    "            description = re.split(r'(Kommentare\\(.*?\\)|registrieren)', description)[0].strip()\n",
    "            return description\n",
    "\n",
    "    # If no keyword is found, check for numeric patterns like \"18-24, 25-49, etc.\"\n",
    "    numeric_pattern = re.search(r'(\\d{1,2}[-+]\\d{1,2}|\\d{2}\\+)', content)\n",
    "    if numeric_pattern:\n",
    "        start_idx = numeric_pattern.end()\n",
    "        description = content[start_idx:].strip()\n",
    "        description = re.split(r'(Kommentare\\(.*?\\)|registrieren)', description)[0].strip()\n",
    "        return description\n",
    "\n",
    "    # As a fallback, find the first capital letter, quote, or digit to mark the start\n",
    "    fallback_match = re.search(r'[A-Z\"0-9]', content)\n",
    "    if fallback_match:\n",
    "        start_idx = fallback_match.start()\n",
    "        description = content[start_idx:].strip()\n",
    "        description = re.split(r'(Kommentare\\(.*?\\)|registrieren)', description)[0].strip()\n",
    "        return description\n",
    "\n",
    "    # If nothing works, return the content as is\n",
    "    return content\n",
    "\n",
    "# Apply the advanced cleaning function to the Description column\n",
    "df['Description'] = df['Content'].apply(clean_description_advanced)\n",
    "df['Date'] = pd.to_datetime(df['Date'], format='%d. %B %Y', errors='coerce')\n"
   ]
  },
  {
   "cell_type": "code",
   "execution_count": 22,
   "metadata": {},
   "outputs": [
    {
     "data": {
      "text/html": [
       "<div>\n",
       "<style scoped>\n",
       "    .dataframe tbody tr th:only-of-type {\n",
       "        vertical-align: middle;\n",
       "    }\n",
       "\n",
       "    .dataframe tbody tr th {\n",
       "        vertical-align: top;\n",
       "    }\n",
       "\n",
       "    .dataframe thead th {\n",
       "        text-align: right;\n",
       "    }\n",
       "</style>\n",
       "<table border=\"1\" class=\"dataframe\">\n",
       "  <thead>\n",
       "    <tr style=\"text-align: right;\">\n",
       "      <th></th>\n",
       "      <th>URL</th>\n",
       "      <th>Content</th>\n",
       "      <th>Title</th>\n",
       "      <th>Date</th>\n",
       "      <th>Comments</th>\n",
       "      <th>Tags</th>\n",
       "      <th>Description</th>\n",
       "      <th>Username</th>\n",
       "      <th>Vorschläge</th>\n",
       "      <th>Konto Status</th>\n",
       "      <th>Supporters</th>\n",
       "    </tr>\n",
       "  </thead>\n",
       "  <tbody>\n",
       "    <tr>\n",
       "      <th>0</th>\n",
       "      <td>https://mitmachen.siegburg.de/proposals/1090-s...</td>\n",
       "      <td>Senioiren Cafe Lichtblick Kaldauen18. Septembe...</td>\n",
       "      <td>Senioiren Cafe Lichtblick Kaldauen</td>\n",
       "      <td>2024-09-18</td>\n",
       "      <td>0</td>\n",
       "      <td>60-74, 75+</td>\n",
       "      <td>Das Cafe Lichtblick in Kaldauen lädt alle Seni...</td>\n",
       "      <td>Senioiren Cafe</td>\n",
       "      <td>1</td>\n",
       "      <td>verifiziert</td>\n",
       "      <td>0</td>\n",
       "    </tr>\n",
       "    <tr>\n",
       "      <th>1</th>\n",
       "      <td>https://mitmachen.siegburg.de/proposals/1089-d...</td>\n",
       "      <td>Digitalsprechstunde für Senior*innen16. Septem...</td>\n",
       "      <td>Digitalsprechstunde für Senior*innen</td>\n",
       "      <td>2024-09-16</td>\n",
       "      <td>0</td>\n",
       "      <td>60-74, 75+</td>\n",
       "      <td>Am ersten Donnerstag im Monat erhalten Seniori...</td>\n",
       "      <td>Digitalsprechstunde für</td>\n",
       "      <td>17</td>\n",
       "      <td>verifiziert</td>\n",
       "      <td>0</td>\n",
       "    </tr>\n",
       "    <tr>\n",
       "      <th>2</th>\n",
       "      <td>https://mitmachen.siegburg.de/proposals/1087-g...</td>\n",
       "      <td>Gemeinschaftsgarten Cecilienstraße12. Septembe...</td>\n",
       "      <td>Gemeinschaftsgarten Cecilienstraße</td>\n",
       "      <td>2024-09-12</td>\n",
       "      <td>0</td>\n",
       "      <td>0-12, 13-17, 18-24, 25-49, 50-59, 60-74, 75+, ...</td>\n",
       "      <td>Der Gemeinschaftsgarten ist eine Kooperation d...</td>\n",
       "      <td>Gemeinschaftsgarten Cecilienstraße12</td>\n",
       "      <td>1</td>\n",
       "      <td>ist nicht verifiziert</td>\n",
       "      <td>0</td>\n",
       "    </tr>\n",
       "    <tr>\n",
       "      <th>3</th>\n",
       "      <td>https://mitmachen.siegburg.de/proposals/1056-g...</td>\n",
       "      <td>Geselliges Beisammensein in Braschoß18. August...</td>\n",
       "      <td>Geselliges Beisammensein in Braschoß</td>\n",
       "      <td>2024-08-18</td>\n",
       "      <td>0</td>\n",
       "      <td>18-24, 25-49, 50-59, 60-74, 75+</td>\n",
       "      <td>in Braschoß18. August 20240 KommentareZugehöri...</td>\n",
       "      <td>Geselliges Beisammensein</td>\n",
       "      <td>3</td>\n",
       "      <td>verifiziert</td>\n",
       "      <td>4</td>\n",
       "    </tr>\n",
       "    <tr>\n",
       "      <th>4</th>\n",
       "      <td>https://mitmachen.siegburg.de/proposals/1055-b...</td>\n",
       "      <td>Bildungsveranstaltungen Pfarrverein Braschoß18...</td>\n",
       "      <td>Bildungsveranstaltungen Pfarrverein Braschoß</td>\n",
       "      <td>2024-08-18</td>\n",
       "      <td>0</td>\n",
       "      <td>18-24, 25-49, 50-59, 60-74, 75+</td>\n",
       "      <td>sveranstaltungen Pfarrverein Braschoß18. Augus...</td>\n",
       "      <td>Bildungsveranstaltungen Pfarrverein</td>\n",
       "      <td>3</td>\n",
       "      <td>verifiziert</td>\n",
       "      <td>4</td>\n",
       "    </tr>\n",
       "  </tbody>\n",
       "</table>\n",
       "</div>"
      ],
      "text/plain": [
       "                                                 URL  \\\n",
       "0  https://mitmachen.siegburg.de/proposals/1090-s...   \n",
       "1  https://mitmachen.siegburg.de/proposals/1089-d...   \n",
       "2  https://mitmachen.siegburg.de/proposals/1087-g...   \n",
       "3  https://mitmachen.siegburg.de/proposals/1056-g...   \n",
       "4  https://mitmachen.siegburg.de/proposals/1055-b...   \n",
       "\n",
       "                                             Content  \\\n",
       "0  Senioiren Cafe Lichtblick Kaldauen18. Septembe...   \n",
       "1  Digitalsprechstunde für Senior*innen16. Septem...   \n",
       "2  Gemeinschaftsgarten Cecilienstraße12. Septembe...   \n",
       "3  Geselliges Beisammensein in Braschoß18. August...   \n",
       "4  Bildungsveranstaltungen Pfarrverein Braschoß18...   \n",
       "\n",
       "                                          Title       Date  Comments  \\\n",
       "0            Senioiren Cafe Lichtblick Kaldauen 2024-09-18         0   \n",
       "1          Digitalsprechstunde für Senior*innen 2024-09-16         0   \n",
       "2            Gemeinschaftsgarten Cecilienstraße 2024-09-12         0   \n",
       "3          Geselliges Beisammensein in Braschoß 2024-08-18         0   \n",
       "4  Bildungsveranstaltungen Pfarrverein Braschoß 2024-08-18         0   \n",
       "\n",
       "                                                Tags  \\\n",
       "0                                         60-74, 75+   \n",
       "1                                         60-74, 75+   \n",
       "2  0-12, 13-17, 18-24, 25-49, 50-59, 60-74, 75+, ...   \n",
       "3                    18-24, 25-49, 50-59, 60-74, 75+   \n",
       "4                    18-24, 25-49, 50-59, 60-74, 75+   \n",
       "\n",
       "                                         Description  \\\n",
       "0  Das Cafe Lichtblick in Kaldauen lädt alle Seni...   \n",
       "1  Am ersten Donnerstag im Monat erhalten Seniori...   \n",
       "2  Der Gemeinschaftsgarten ist eine Kooperation d...   \n",
       "3  in Braschoß18. August 20240 KommentareZugehöri...   \n",
       "4  sveranstaltungen Pfarrverein Braschoß18. Augus...   \n",
       "\n",
       "                               Username  Vorschläge           Konto Status  \\\n",
       "0                        Senioiren Cafe           1            verifiziert   \n",
       "1               Digitalsprechstunde für          17            verifiziert   \n",
       "2  Gemeinschaftsgarten Cecilienstraße12           1  ist nicht verifiziert   \n",
       "3              Geselliges Beisammensein           3            verifiziert   \n",
       "4   Bildungsveranstaltungen Pfarrverein           3            verifiziert   \n",
       "\n",
       "   Supporters  \n",
       "0           0  \n",
       "1           0  \n",
       "2           0  \n",
       "3           4  \n",
       "4           4  "
      ]
     },
     "execution_count": 22,
     "metadata": {},
     "output_type": "execute_result"
    }
   ],
   "source": [
    "df.head()"
   ]
  },
  {
   "cell_type": "code",
   "execution_count": 23,
   "metadata": {},
   "outputs": [],
   "source": [
    "df.to_csv('siegburg_data.csv', index=False)"
   ]
  },
  {
   "cell_type": "markdown",
   "metadata": {},
   "source": [
    "Data Analysis and Visualisation"
   ]
  },
  {
   "cell_type": "code",
   "execution_count": 24,
   "metadata": {},
   "outputs": [
    {
     "name": "stdout",
     "output_type": "stream",
     "text": [
      "Requirement already satisfied: matplotlib in c:\\users\\user\\appdata\\local\\programs\\python\\python312\\lib\\site-packages (3.10.0)\n",
      "Requirement already satisfied: contourpy>=1.0.1 in c:\\users\\user\\appdata\\local\\programs\\python\\python312\\lib\\site-packages (from matplotlib) (1.3.1)\n",
      "Requirement already satisfied: cycler>=0.10 in c:\\users\\user\\appdata\\local\\programs\\python\\python312\\lib\\site-packages (from matplotlib) (0.12.1)\n",
      "Requirement already satisfied: fonttools>=4.22.0 in c:\\users\\user\\appdata\\local\\programs\\python\\python312\\lib\\site-packages (from matplotlib) (4.55.3)\n",
      "Requirement already satisfied: kiwisolver>=1.3.1 in c:\\users\\user\\appdata\\local\\programs\\python\\python312\\lib\\site-packages (from matplotlib) (1.4.8)\n",
      "Requirement already satisfied: numpy>=1.23 in c:\\users\\user\\appdata\\local\\programs\\python\\python312\\lib\\site-packages (from matplotlib) (2.2.1)\n",
      "Requirement already satisfied: packaging>=20.0 in c:\\users\\user\\appdata\\roaming\\python\\python312\\site-packages (from matplotlib) (24.2)\n",
      "Requirement already satisfied: pillow>=8 in c:\\users\\user\\appdata\\local\\programs\\python\\python312\\lib\\site-packages (from matplotlib) (11.0.0)\n",
      "Requirement already satisfied: pyparsing>=2.3.1 in c:\\users\\user\\appdata\\local\\programs\\python\\python312\\lib\\site-packages (from matplotlib) (3.2.0)\n",
      "Requirement already satisfied: python-dateutil>=2.7 in c:\\users\\user\\appdata\\roaming\\python\\python312\\site-packages (from matplotlib) (2.9.0.post0)\n",
      "Requirement already satisfied: six>=1.5 in c:\\users\\user\\appdata\\roaming\\python\\python312\\site-packages (from python-dateutil>=2.7->matplotlib) (1.17.0)\n",
      "Note: you may need to restart the kernel to use updated packages.\n"
     ]
    },
    {
     "name": "stderr",
     "output_type": "stream",
     "text": [
      "\n",
      "[notice] A new release of pip is available: 23.2.1 -> 24.3.1\n",
      "[notice] To update, run: python.exe -m pip install --upgrade pip\n"
     ]
    }
   ],
   "source": [
    "pip install matplotlib"
   ]
  },
  {
   "cell_type": "code",
   "execution_count": 25,
   "metadata": {},
   "outputs": [
    {
     "data": {
      "image/png": "[encoded data removed]",
      "text/plain": [
       "<Figure size 1200x600 with 2 Axes>"
      ]
     },
     "metadata": {},
     "output_type": "display_data"
    },
    {
     "data": {
      "image/png": "[encoded data removed]",
      "text/plain": [
       "<Figure size 800x500 with 1 Axes>"
      ]
     },
     "metadata": {},
     "output_type": "display_data"
    }
   ],
   "source": [
    "import numpy as np\n",
    "import matplotlib.pyplot as plt\n",
    "\n",
    "# # 1. Bubble Chart: Supporters vs Comments Colored by Verification Status\n",
    "# plt.figure(figsize=(10, 6))\n",
    "# bubble_sizes = df[\"Supporters\"] * 20  # Scale bubble size by supporters count\n",
    "# colors = df[\"Konto Status\"].apply(lambda x: 'blue' if x == \"verifiziert\" else 'red')\n",
    "# plt.scatter(df[\"Comments\"], df[\"Supporters\"], s=bubble_sizes, c=colors, alpha=0.7, edgecolors=\"black\")\n",
    "# plt.title(\"Supporters vs Comments Colored by Verification Status\")\n",
    "# plt.xlabel(\"Number of Comments\")\n",
    "# plt.ylabel(\"Number of Supporters\")\n",
    "# plt.grid(alpha=0.3)\n",
    "# plt.legend([\"Verified (blue)\", \"Unverified (red)\"], loc=\"upper right\")\n",
    "# plt.show()\n",
    "\n",
    "# 2. Combined Bar and Line Chart: Proposals and Average Supporters Over Time\n",
    "proposal_counts = df.groupby(df[\"Date\"].dt.to_period(\"M\")).size()\n",
    "average_supporters = df.groupby(df[\"Date\"].dt.to_period(\"M\"))[\"Supporters\"].mean()\n",
    "months = proposal_counts.index.to_timestamp()\n",
    "\n",
    "fig, ax1 = plt.subplots(figsize=(12, 6))\n",
    "\n",
    "# Bar chart for proposals\n",
    "ax1.bar(months, proposal_counts.values, alpha=0.7, label=\"Number of Proposals\")\n",
    "ax1.set_xlabel(\"Month\")\n",
    "ax1.set_ylabel(\"Number of Proposals\")\n",
    "ax1.tick_params(axis=\"y\")\n",
    "\n",
    "# Line chart for average supporters\n",
    "ax2 = ax1.twinx()\n",
    "ax2.plot(months, average_supporters.values, color=\"green\", marker=\"o\", label=\"Average Supporters\")\n",
    "ax2.set_ylabel(\"Average Supporters\")\n",
    "ax2.tick_params(axis=\"y\", labelcolor=\"green\")\n",
    "\n",
    "fig.suptitle(\"Proposals and Average Supporters Over Time\")\n",
    "fig.legend(loc=\"upper left\", bbox_to_anchor=(0.1, 0.85))\n",
    "fig.tight_layout()\n",
    "plt.show()\n",
    "\n",
    "# 3. Heatmap-Like Representation: Verification Status vs Engagement (Supporters & Comments)\n",
    "engagement_matrix = df.pivot_table(\n",
    "    values=[\"Supporters\", \"Comments\"], \n",
    "    index=\"Konto Status\", \n",
    "    aggfunc=\"mean\"\n",
    ")\n",
    "engagement_matrix = engagement_matrix.reindex([\"verificated\", \"not verificated\"])\n",
    "\n",
    "fig, ax = plt.subplots(figsize=(8, 5))\n",
    "im = ax.imshow(engagement_matrix, cmap=\"coolwarm\")\n",
    "\n",
    "# Show all ticks and label them\n",
    "ax.set_xticks(np.arange(len(engagement_matrix.columns)))\n",
    "ax.set_yticks(np.arange(len(engagement_matrix.index)))\n",
    "ax.set_xticklabels(engagement_matrix.columns)\n",
    "ax.set_yticklabels(engagement_matrix.index)\n",
    "\n",
    "# Rotate the tick labels and set alignment\n",
    "plt.setp(ax.get_xticklabels(), rotation=45, ha=\"right\", rotation_mode=\"anchor\")\n",
    "\n",
    "# Add text annotations\n",
    "for i in range(len(engagement_matrix.index)):\n",
    "    for j in range(len(engagement_matrix.columns)):\n",
    "        text = ax.text(j, i, f\"{engagement_matrix.iloc[i, j]:.2f}\", ha=\"center\", va=\"center\", color=\"black\")\n",
    "\n",
    "ax.set_title(\"Verification Status vs Engagement\")\n",
    "fig.tight_layout()\n",
    "plt.show()\n"
   ]
  },
  {
   "cell_type": "code",
   "execution_count": 26,
   "metadata": {},
   "outputs": [
    {
     "data": {
      "image/png": "[encoded data removed]",
      "text/plain": [
       "<Figure size 1000x800 with 1 Axes>"
      ]
     },
     "metadata": {},
     "output_type": "display_data"
    }
   ],
   "source": [
    "import matplotlib.pyplot as plt\n",
    "\n",
    "# Process the 'Tags' column to extract age group information\n",
    "from collections import Counter\n",
    "\n",
    "# Split tags by commas and flatten into a single list\n",
    "all_tags = df[\"Tags\"].dropna().str.split(\", \").sum()\n",
    "tag_counts = Counter(all_tags)\n",
    "\n",
    "# Filter tags with less than 5% contribution\n",
    "total = sum(tag_counts.values())\n",
    "filtered_tags = {tag: count for tag, count in tag_counts.items() if (count / total) * 100 >= 5}\n",
    "minor_tags = {tag: count for tag, count in tag_counts.items() if (count / total) * 100 < 5}\n",
    "\n",
    "# Add a single \"Others\" category for minor tags\n",
    "if minor_tags:\n",
    "    filtered_tags[\"Others\"] = sum(minor_tags.values())\n",
    "\n",
    "# Create a pie chart for the filtered tags\n",
    "plt.figure(figsize=(10, 8))\n",
    "plt.pie(\n",
    "    filtered_tags.values(),\n",
    "    labels=filtered_tags.keys(),\n",
    "    autopct='%1.1f%%',\n",
    "    startangle=140,)\n",
    "plt.title(\"Distribution of Age Tags in Proposals (Filtered)\")\n",
    "plt.show()\n",
    "\n"
   ]
  },
  {
   "cell_type": "code",
   "execution_count": 28,
   "metadata": {},
   "outputs": [
    {
     "name": "stdout",
     "output_type": "stream",
     "text": [
      "Collecting spacy\n",
      "  Obtaining dependency information for spacy from https://files.pythonhosted.org/packages/81/35/6efa37d608b299270bf1e04f0d686f485a7ebf86f38b6c1f6bca0f9f3eac/spacy-3.8.3-cp312-cp312-win_amd64.whl.metadata\n",
      "  Downloading spacy-3.8.3-cp312-cp312-win_amd64.whl.metadata (27 kB)\n",
      "Collecting spacy-legacy<3.1.0,>=3.0.11 (from spacy)\n",
      "  Obtaining dependency information for spacy-legacy<3.1.0,>=3.0.11 from https://files.pythonhosted.org/packages/c3/55/12e842c70ff8828e34e543a2c7176dac4da006ca6901c9e8b43efab8bc6b/spacy_legacy-3.0.12-py2.py3-none-any.whl.metadata\n",
      "  Downloading spacy_legacy-3.0.12-py2.py3-none-any.whl.metadata (2.8 kB)\n",
      "Collecting spacy-loggers<2.0.0,>=1.0.0 (from spacy)\n",
      "  Obtaining dependency information for spacy-loggers<2.0.0,>=1.0.0 from https://files.pythonhosted.org/packages/33/78/d1a1a026ef3af911159398c939b1509d5c36fe524c7b644f34a5146c4e16/spacy_loggers-1.0.5-py3-none-any.whl.metadata\n",
      "  Downloading spacy_loggers-1.0.5-py3-none-any.whl.metadata (23 kB)\n",
      "Collecting murmurhash<1.1.0,>=0.28.0 (from spacy)\n",
      "  Obtaining dependency information for murmurhash<1.1.0,>=0.28.0 from https://files.pythonhosted.org/packages/6f/87/f2bc915ea04ba7ba11c550d80d0c3a31331e00ef4266bcf241110978b9b1/murmurhash-1.0.11-cp312-cp312-win_amd64.whl.metadata\n",
      "  Downloading murmurhash-1.0.11-cp312-cp312-win_amd64.whl.metadata (2.0 kB)\n",
      "Collecting cymem<2.1.0,>=2.0.2 (from spacy)\n",
      "  Obtaining dependency information for cymem<2.1.0,>=2.0.2 from https://files.pythonhosted.org/packages/16/40/1b6bdfaab3f80eeb302cd6212c2dcaa735d055db509487cf8da51764b74d/cymem-2.0.10-cp312-cp312-win_amd64.whl.metadata\n",
      "  Downloading cymem-2.0.10-cp312-cp312-win_amd64.whl.metadata (8.6 kB)\n",
      "Collecting preshed<3.1.0,>=3.0.2 (from spacy)\n",
      "  Obtaining dependency information for preshed<3.1.0,>=3.0.2 from https://files.pythonhosted.org/packages/db/e4/d074efb7e8a8873d346d2fb8dd43e19b1eae0697351c0d79cff947cba46e/preshed-3.0.9-cp312-cp312-win_amd64.whl.metadata\n",
      "  Downloading preshed-3.0.9-cp312-cp312-win_amd64.whl.metadata (2.2 kB)\n",
      "Collecting thinc<8.4.0,>=8.3.0 (from spacy)\n",
      "  Obtaining dependency information for thinc<8.4.0,>=8.3.0 from https://files.pythonhosted.org/packages/c0/8c/9f6a2bf9ec356e51b0e782b6447bf16ab05a5672ca954f8f89938dd7a832/thinc-8.3.3-cp312-cp312-win_amd64.whl.metadata\n",
      "  Downloading thinc-8.3.3-cp312-cp312-win_amd64.whl.metadata (15 kB)\n",
      "Collecting wasabi<1.2.0,>=0.9.1 (from spacy)\n",
      "  Obtaining dependency information for wasabi<1.2.0,>=0.9.1 from https://files.pythonhosted.org/packages/06/7c/34330a89da55610daa5f245ddce5aab81244321101614751e7537f125133/wasabi-1.1.3-py3-none-any.whl.metadata\n",
      "  Downloading wasabi-1.1.3-py3-none-any.whl.metadata (28 kB)\n",
      "Collecting srsly<3.0.0,>=2.4.3 (from spacy)\n",
      "  Obtaining dependency information for srsly<3.0.0,>=2.4.3 from https://files.pythonhosted.org/packages/33/ff/f76fb452a4a504728f5d03102f67b92bb2076080ba69e9e32292b7c0566a/srsly-2.5.0-cp312-cp312-win_amd64.whl.metadata\n",
      "  Downloading srsly-2.5.0-cp312-cp312-win_amd64.whl.metadata (20 kB)\n",
      "Collecting catalogue<2.1.0,>=2.0.6 (from spacy)\n",
      "  Obtaining dependency information for catalogue<2.1.0,>=2.0.6 from https://files.pythonhosted.org/packages/9e/96/d32b941a501ab566a16358d68b6eb4e4acc373fab3c3c4d7d9e649f7b4bb/catalogue-2.0.10-py3-none-any.whl.metadata\n",
      "  Downloading catalogue-2.0.10-py3-none-any.whl.metadata (14 kB)\n",
      "Collecting weasel<0.5.0,>=0.1.0 (from spacy)\n",
      "  Obtaining dependency information for weasel<0.5.0,>=0.1.0 from https://files.pythonhosted.org/packages/2a/87/abd57374044e1f627f0a905ac33c1a7daab35a3a815abfea4e1bafd3fdb1/weasel-0.4.1-py3-none-any.whl.metadata\n",
      "  Downloading weasel-0.4.1-py3-none-any.whl.metadata (4.6 kB)\n",
      "Collecting typer<1.0.0,>=0.3.0 (from spacy)\n",
      "  Obtaining dependency information for typer<1.0.0,>=0.3.0 from https://files.pythonhosted.org/packages/d0/cc/0a838ba5ca64dc832aa43f727bd586309846b0ffb2ce52422543e6075e8a/typer-0.15.1-py3-none-any.whl.metadata\n",
      "  Downloading typer-0.15.1-py3-none-any.whl.metadata (15 kB)\n",
      "Collecting tqdm<5.0.0,>=4.38.0 (from spacy)\n",
      "  Obtaining dependency information for tqdm<5.0.0,>=4.38.0 from https://files.pythonhosted.org/packages/d0/30/dc54f88dd4a2b5dc8a0279bdd7270e735851848b762aeb1c1184ed1f6b14/tqdm-4.67.1-py3-none-any.whl.metadata\n",
      "  Downloading tqdm-4.67.1-py3-none-any.whl.metadata (57 kB)\n",
      "     ---------------------------------------- 0.0/57.7 kB ? eta -:--:--\n",
      "     ---------------------------------------- 57.7/57.7 kB 3.0 MB/s eta 0:00:00\n",
      "Requirement already satisfied: numpy>=1.19.0 in c:\\users\\user\\appdata\\local\\programs\\python\\python312\\lib\\site-packages (from spacy) (2.2.1)\n",
      "Requirement already satisfied: requests<3.0.0,>=2.13.0 in c:\\users\\user\\appdata\\local\\programs\\python\\python312\\lib\\site-packages (from spacy) (2.32.3)\n",
      "Collecting pydantic!=1.8,!=1.8.1,<3.0.0,>=1.7.4 (from spacy)\n",
      "  Obtaining dependency information for pydantic!=1.8,!=1.8.1,<3.0.0,>=1.7.4 from https://files.pythonhosted.org/packages/f3/26/3e1bbe954fde7ee22a6e7d31582c642aad9e84ffe4b5fb61e63b87cd326f/pydantic-2.10.4-py3-none-any.whl.metadata\n",
      "  Downloading pydantic-2.10.4-py3-none-any.whl.metadata (29 kB)\n",
      "Collecting jinja2 (from spacy)\n",
      "  Obtaining dependency information for jinja2 from https://files.pythonhosted.org/packages/bd/0f/2ba5fbcd631e3e88689309dbe978c5769e883e4b84ebfe7da30b43275c5a/jinja2-3.1.5-py3-none-any.whl.metadata\n",
      "  Downloading jinja2-3.1.5-py3-none-any.whl.metadata (2.6 kB)\n",
      "Collecting setuptools (from spacy)\n",
      "  Obtaining dependency information for setuptools from https://files.pythonhosted.org/packages/55/21/47d163f615df1d30c094f6c8bbb353619274edccf0327b185cc2493c2c33/setuptools-75.6.0-py3-none-any.whl.metadata\n",
      "  Downloading setuptools-75.6.0-py3-none-any.whl.metadata (6.7 kB)\n",
      "Requirement already satisfied: packaging>=20.0 in c:\\users\\user\\appdata\\roaming\\python\\python312\\site-packages (from spacy) (24.2)\n",
      "Collecting langcodes<4.0.0,>=3.2.0 (from spacy)\n",
      "  Obtaining dependency information for langcodes<4.0.0,>=3.2.0 from https://files.pythonhosted.org/packages/c3/6b/068c2ea7a712bf805c62445bd9e9c06d7340358ef2824150eceac027444b/langcodes-3.5.0-py3-none-any.whl.metadata\n",
      "  Downloading langcodes-3.5.0-py3-none-any.whl.metadata (29 kB)\n",
      "Collecting language-data>=1.2 (from langcodes<4.0.0,>=3.2.0->spacy)\n",
      "  Obtaining dependency information for language-data>=1.2 from https://files.pythonhosted.org/packages/5d/e9/5a5ffd9b286db82be70d677d0a91e4d58f7912bb8dd026ddeeb4abe70679/language_data-1.3.0-py3-none-any.whl.metadata\n",
      "  Downloading language_data-1.3.0-py3-none-any.whl.metadata (4.3 kB)\n",
      "Collecting annotated-types>=0.6.0 (from pydantic!=1.8,!=1.8.1,<3.0.0,>=1.7.4->spacy)\n",
      "  Obtaining dependency information for annotated-types>=0.6.0 from https://files.pythonhosted.org/packages/78/b6/6307fbef88d9b5ee7421e68d78a9f162e0da4900bc5f5793f6d3d0e34fb8/annotated_types-0.7.0-py3-none-any.whl.metadata\n",
      "  Using cached annotated_types-0.7.0-py3-none-any.whl.metadata (15 kB)\n",
      "Collecting pydantic-core==2.27.2 (from pydantic!=1.8,!=1.8.1,<3.0.0,>=1.7.4->spacy)\n",
      "  Obtaining dependency information for pydantic-core==2.27.2 from https://files.pythonhosted.org/packages/1f/ea/cd7209a889163b8dcca139fe32b9687dd05249161a3edda62860430457a5/pydantic_core-2.27.2-cp312-cp312-win_amd64.whl.metadata\n",
      "  Downloading pydantic_core-2.27.2-cp312-cp312-win_amd64.whl.metadata (6.7 kB)\n",
      "Collecting typing-extensions>=4.12.2 (from pydantic!=1.8,!=1.8.1,<3.0.0,>=1.7.4->spacy)\n",
      "  Obtaining dependency information for typing-extensions>=4.12.2 from https://files.pythonhosted.org/packages/26/9f/ad63fc0248c5379346306f8668cda6e2e2e9c95e01216d2b8ffd9ff037d0/typing_extensions-4.12.2-py3-none-any.whl.metadata\n",
      "  Using cached typing_extensions-4.12.2-py3-none-any.whl.metadata (3.0 kB)\n",
      "Requirement already satisfied: charset-normalizer<4,>=2 in c:\\users\\user\\appdata\\local\\programs\\python\\python312\\lib\\site-packages (from requests<3.0.0,>=2.13.0->spacy) (3.4.1)\n",
      "Requirement already satisfied: idna<4,>=2.5 in c:\\users\\user\\appdata\\local\\programs\\python\\python312\\lib\\site-packages (from requests<3.0.0,>=2.13.0->spacy) (3.10)\n",
      "Requirement already satisfied: urllib3<3,>=1.21.1 in c:\\users\\user\\appdata\\local\\programs\\python\\python312\\lib\\site-packages (from requests<3.0.0,>=2.13.0->spacy) (2.3.0)\n",
      "Requirement already satisfied: certifi>=2017.4.17 in c:\\users\\user\\appdata\\local\\programs\\python\\python312\\lib\\site-packages (from requests<3.0.0,>=2.13.0->spacy) (2024.12.14)\n",
      "Collecting blis<1.2.0,>=1.1.0 (from thinc<8.4.0,>=8.3.0->spacy)\n",
      "  Obtaining dependency information for blis<1.2.0,>=1.1.0 from https://files.pythonhosted.org/packages/4c/9f/e5b84036c0bef9687a3fe06b0d6c8e0effb8f8edcc2c163af0d508d0cc2e/blis-1.1.0-cp312-cp312-win_amd64.whl.metadata\n",
      "  Downloading blis-1.1.0-cp312-cp312-win_amd64.whl.metadata (7.9 kB)\n",
      "Collecting confection<1.0.0,>=0.0.1 (from thinc<8.4.0,>=8.3.0->spacy)\n",
      "  Obtaining dependency information for confection<1.0.0,>=0.0.1 from https://files.pythonhosted.org/packages/0c/00/3106b1854b45bd0474ced037dfe6b73b90fe68a68968cef47c23de3d43d2/confection-0.1.5-py3-none-any.whl.metadata\n",
      "  Downloading confection-0.1.5-py3-none-any.whl.metadata (19 kB)\n",
      "Requirement already satisfied: colorama in c:\\users\\user\\appdata\\roaming\\python\\python312\\site-packages (from tqdm<5.0.0,>=4.38.0->spacy) (0.4.6)\n",
      "Collecting click>=8.0.0 (from typer<1.0.0,>=0.3.0->spacy)\n",
      "  Obtaining dependency information for click>=8.0.0 from https://files.pythonhosted.org/packages/7e/d4/7ebdbd03970677812aac39c869717059dbb71a4cfc033ca6e5221787892c/click-8.1.8-py3-none-any.whl.metadata\n",
      "  Downloading click-8.1.8-py3-none-any.whl.metadata (2.3 kB)\n",
      "Collecting shellingham>=1.3.0 (from typer<1.0.0,>=0.3.0->spacy)\n",
      "  Obtaining dependency information for shellingham>=1.3.0 from https://files.pythonhosted.org/packages/e0/f9/0595336914c5619e5f28a1fb793285925a8cd4b432c9da0a987836c7f822/shellingham-1.5.4-py2.py3-none-any.whl.metadata\n",
      "  Downloading shellingham-1.5.4-py2.py3-none-any.whl.metadata (3.5 kB)\n",
      "Collecting rich>=10.11.0 (from typer<1.0.0,>=0.3.0->spacy)\n",
      "  Obtaining dependency information for rich>=10.11.0 from https://files.pythonhosted.org/packages/19/71/39c7c0d87f8d4e6c020a393182060eaefeeae6c01dab6a84ec346f2567df/rich-13.9.4-py3-none-any.whl.metadata\n",
      "  Downloading rich-13.9.4-py3-none-any.whl.metadata (18 kB)\n",
      "Collecting cloudpathlib<1.0.0,>=0.7.0 (from weasel<0.5.0,>=0.1.0->spacy)\n",
      "  Obtaining dependency information for cloudpathlib<1.0.0,>=0.7.0 from https://files.pythonhosted.org/packages/1f/6e/b64600156934dab14cc8b403095a9ea8bd722aad2e775673c68346b76220/cloudpathlib-0.20.0-py3-none-any.whl.metadata\n",
      "  Downloading cloudpathlib-0.20.0-py3-none-any.whl.metadata (14 kB)\n",
      "Collecting smart-open<8.0.0,>=5.2.1 (from weasel<0.5.0,>=0.1.0->spacy)\n",
      "  Obtaining dependency information for smart-open<8.0.0,>=5.2.1 from https://files.pythonhosted.org/packages/7a/18/9a8d9f01957aa1f8bbc5676d54c2e33102d247e146c1a3679d3bd5cc2e3a/smart_open-7.1.0-py3-none-any.whl.metadata\n",
      "  Downloading smart_open-7.1.0-py3-none-any.whl.metadata (24 kB)\n",
      "Collecting MarkupSafe>=2.0 (from jinja2->spacy)\n",
      "  Obtaining dependency information for MarkupSafe>=2.0 from https://files.pythonhosted.org/packages/c1/80/a61f99dc3a936413c3ee4e1eecac96c0da5ed07ad56fd975f1a9da5bc630/MarkupSafe-3.0.2-cp312-cp312-win_amd64.whl.metadata\n",
      "  Downloading MarkupSafe-3.0.2-cp312-cp312-win_amd64.whl.metadata (4.1 kB)\n",
      "Collecting marisa-trie>=1.1.0 (from language-data>=1.2->langcodes<4.0.0,>=3.2.0->spacy)\n",
      "  Obtaining dependency information for marisa-trie>=1.1.0 from https://files.pythonhosted.org/packages/a1/fe/67c357bfd92710d95a16b86e1453c663d565415d7f7838781c79ff7e1a7e/marisa_trie-1.2.1-cp312-cp312-win_amd64.whl.metadata\n",
      "  Downloading marisa_trie-1.2.1-cp312-cp312-win_amd64.whl.metadata (9.3 kB)\n",
      "Collecting markdown-it-py>=2.2.0 (from rich>=10.11.0->typer<1.0.0,>=0.3.0->spacy)\n",
      "  Obtaining dependency information for markdown-it-py>=2.2.0 from https://files.pythonhosted.org/packages/42/d7/1ec15b46af6af88f19b8e5ffea08fa375d433c998b8a7639e76935c14f1f/markdown_it_py-3.0.0-py3-none-any.whl.metadata\n",
      "  Downloading markdown_it_py-3.0.0-py3-none-any.whl.metadata (6.9 kB)\n",
      "Requirement already satisfied: pygments<3.0.0,>=2.13.0 in c:\\users\\user\\appdata\\roaming\\python\\python312\\site-packages (from rich>=10.11.0->typer<1.0.0,>=0.3.0->spacy) (2.18.0)\n",
      "Collecting wrapt (from smart-open<8.0.0,>=5.2.1->weasel<0.5.0,>=0.1.0->spacy)\n",
      "  Obtaining dependency information for wrapt from https://files.pythonhosted.org/packages/b3/4f/243f88ac49df005b9129194c6511b3642818b3e6271ddea47a15e2ee4934/wrapt-1.17.0-cp312-cp312-win_amd64.whl.metadata\n",
      "  Downloading wrapt-1.17.0-cp312-cp312-win_amd64.whl.metadata (6.5 kB)\n",
      "Collecting mdurl~=0.1 (from markdown-it-py>=2.2.0->rich>=10.11.0->typer<1.0.0,>=0.3.0->spacy)\n",
      "  Obtaining dependency information for mdurl~=0.1 from https://files.pythonhosted.org/packages/b3/38/89ba8ad64ae25be8de66a6d463314cf1eb366222074cfda9ee839c56a4b4/mdurl-0.1.2-py3-none-any.whl.metadata\n",
      "  Downloading mdurl-0.1.2-py3-none-any.whl.metadata (1.6 kB)\n",
      "Downloading spacy-3.8.3-cp312-cp312-win_amd64.whl (11.8 MB)\n",
      "   ---------------------------------------- 0.0/11.8 MB ? eta -:--:--\n",
      "   - -------------------------------------- 0.5/11.8 MB 33.5 MB/s eta 0:00:01\n",
      "   ------ --------------------------------- 1.8/11.8 MB 22.7 MB/s eta 0:00:01\n",
      "   --------- ------------------------------ 2.9/11.8 MB 26.9 MB/s eta 0:00:01\n",
      "   --------------- ------------------------ 4.5/11.8 MB 28.5 MB/s eta 0:00:01\n",
      "   ------------------- -------------------- 5.9/11.8 MB 28.9 MB/s eta 0:00:01\n",
      "   ----------------------- ---------------- 7.1/11.8 MB 28.2 MB/s eta 0:00:01\n",
      "   ---------------------------- ----------- 8.3/11.8 MB 28.0 MB/s eta 0:00:01\n",
      "   --------------------------------- ------ 9.9/11.8 MB 28.7 MB/s eta 0:00:01\n",
      "   -------------------------------------- - 11.4/11.8 MB 29.8 MB/s eta 0:00:01\n",
      "   ---------------------------------------  11.8/11.8 MB 31.2 MB/s eta 0:00:01\n",
      "   ---------------------------------------- 11.8/11.8 MB 26.2 MB/s eta 0:00:00\n",
      "Downloading catalogue-2.0.10-py3-none-any.whl (17 kB)\n",
      "Downloading cymem-2.0.10-cp312-cp312-win_amd64.whl (39 kB)\n",
      "Downloading langcodes-3.5.0-py3-none-any.whl (182 kB)\n",
      "   ---------------------------------------- 0.0/183.0 kB ? eta -:--:--\n",
      "   --------------------------------------- 183.0/183.0 kB 10.8 MB/s eta 0:00:00\n",
      "Downloading murmurhash-1.0.11-cp312-cp312-win_amd64.whl (25 kB)\n",
      "Downloading preshed-3.0.9-cp312-cp312-win_amd64.whl (122 kB)\n",
      "   ---------------------------------------- 0.0/122.4 kB ? eta -:--:--\n",
      "   ---------------------------------------- 122.4/122.4 kB 7.5 MB/s eta 0:00:00\n",
      "Downloading pydantic-2.10.4-py3-none-any.whl (431 kB)\n",
      "   ---------------------------------------- 0.0/431.8 kB ? eta -:--:--\n",
      "   --------------------------------------- 431.8/431.8 kB 28.1 MB/s eta 0:00:00\n",
      "Downloading pydantic_core-2.27.2-cp312-cp312-win_amd64.whl (2.0 MB)\n",
      "   ---------------------------------------- 0.0/2.0 MB ? eta -:--:--\n",
      "   ----------------------- ---------------- 1.2/2.0 MB 38.0 MB/s eta 0:00:01\n",
      "   ---------------------------------------- 2.0/2.0 MB 25.4 MB/s eta 0:00:00\n",
      "Downloading spacy_legacy-3.0.12-py2.py3-none-any.whl (29 kB)\n",
      "Downloading spacy_loggers-1.0.5-py3-none-any.whl (22 kB)\n",
      "Downloading srsly-2.5.0-cp312-cp312-win_amd64.whl (632 kB)\n",
      "   ---------------------------------------- 0.0/632.6 kB ? eta -:--:--\n",
      "   --------------------------------------- 632.6/632.6 kB 20.1 MB/s eta 0:00:00\n",
      "Downloading thinc-8.3.3-cp312-cp312-win_amd64.whl (1.5 MB)\n",
      "   ---------------------------------------- 0.0/1.5 MB ? eta -:--:--\n",
      "   -------------------------------- ------- 1.2/1.5 MB 36.8 MB/s eta 0:00:01\n",
      "   ---------------------------------------- 1.5/1.5 MB 22.9 MB/s eta 0:00:00\n",
      "Downloading tqdm-4.67.1-py3-none-any.whl (78 kB)\n",
      "   ---------------------------------------- 0.0/78.5 kB ? eta -:--:--\n",
      "   ---------------------------------------- 78.5/78.5 kB 4.6 MB/s eta 0:00:00\n",
      "Downloading typer-0.15.1-py3-none-any.whl (44 kB)\n",
      "   ---------------------------------------- 0.0/44.9 kB ? eta -:--:--\n",
      "   ---------------------------------------- 44.9/44.9 kB ? eta 0:00:00\n",
      "Downloading wasabi-1.1.3-py3-none-any.whl (27 kB)\n",
      "Downloading weasel-0.4.1-py3-none-any.whl (50 kB)\n",
      "   ---------------------------------------- 0.0/50.3 kB ? eta -:--:--\n",
      "   ---------------------------------------- 50.3/50.3 kB 2.5 MB/s eta 0:00:00\n",
      "Downloading jinja2-3.1.5-py3-none-any.whl (134 kB)\n",
      "   ---------------------------------------- 0.0/134.6 kB ? eta -:--:--\n",
      "   ---------------------------------------- 134.6/134.6 kB 7.8 MB/s eta 0:00:00\n",
      "Downloading setuptools-75.6.0-py3-none-any.whl (1.2 MB)\n",
      "   ---------------------------------------- 0.0/1.2 MB ? eta -:--:--\n",
      "   ---------------------------------------  1.2/1.2 MB 37.8 MB/s eta 0:00:01\n",
      "   ---------------------------------------- 1.2/1.2 MB 25.8 MB/s eta 0:00:00\n",
      "Using cached annotated_types-0.7.0-py3-none-any.whl (13 kB)\n",
      "Downloading blis-1.1.0-cp312-cp312-win_amd64.whl (6.4 MB)\n",
      "   ---------------------------------------- 0.0/6.4 MB ? eta -:--:--\n",
      "   -------- ------------------------------- 1.3/6.4 MB 42.0 MB/s eta 0:00:01\n",
      "   ---------------- ----------------------- 2.7/6.4 MB 28.3 MB/s eta 0:00:01\n",
      "   ----------------------- ---------------- 3.7/6.4 MB 29.7 MB/s eta 0:00:01\n",
      "   ----------------------------- ---------- 4.7/6.4 MB 27.5 MB/s eta 0:00:01\n",
      "   ---------------------------------------  6.3/6.4 MB 28.9 MB/s eta 0:00:01\n",
      "   ---------------------------------------- 6.4/6.4 MB 24.0 MB/s eta 0:00:00\n",
      "Downloading click-8.1.8-py3-none-any.whl (98 kB)\n",
      "   ---------------------------------------- 0.0/98.2 kB ? eta -:--:--\n",
      "   ---------------------------------------- 98.2/98.2 kB ? eta 0:00:00\n",
      "Downloading cloudpathlib-0.20.0-py3-none-any.whl (52 kB)\n",
      "   ---------------------------------------- 0.0/52.5 kB ? eta -:--:--\n",
      "   ---------------------------------------- 52.5/52.5 kB ? eta 0:00:00\n",
      "Downloading confection-0.1.5-py3-none-any.whl (35 kB)\n",
      "Downloading language_data-1.3.0-py3-none-any.whl (5.4 MB)\n",
      "   ---------------------------------------- 0.0/5.4 MB ? eta -:--:--\n",
      "   -------- ------------------------------- 1.1/5.4 MB 35.7 MB/s eta 0:00:01\n",
      "   ----------------- ---------------------- 2.3/5.4 MB 29.8 MB/s eta 0:00:01\n",
      "   --------------------------- ------------ 3.7/5.4 MB 29.8 MB/s eta 0:00:01\n",
      "   ---------------------------------------  5.3/5.4 MB 30.5 MB/s eta 0:00:01\n",
      "   ---------------------------------------- 5.4/5.4 MB 26.5 MB/s eta 0:00:00\n",
      "Downloading MarkupSafe-3.0.2-cp312-cp312-win_amd64.whl (15 kB)\n",
      "Downloading rich-13.9.4-py3-none-any.whl (242 kB)\n",
      "   ---------------------------------------- 0.0/242.4 kB ? eta -:--:--\n",
      "   --------------------------------------- 242.4/242.4 kB 15.5 MB/s eta 0:00:00\n",
      "Downloading shellingham-1.5.4-py2.py3-none-any.whl (9.8 kB)\n",
      "Downloading smart_open-7.1.0-py3-none-any.whl (61 kB)\n",
      "   ---------------------------------------- 0.0/61.7 kB ? eta -:--:--\n",
      "   ---------------------------------------- 61.7/61.7 kB 3.4 MB/s eta 0:00:00\n",
      "Using cached typing_extensions-4.12.2-py3-none-any.whl (37 kB)\n",
      "Downloading marisa_trie-1.2.1-cp312-cp312-win_amd64.whl (150 kB)\n",
      "   ---------------------------------------- 0.0/150.8 kB ? eta -:--:--\n",
      "   ---------------------------------------- 150.8/150.8 kB ? eta 0:00:00\n",
      "Downloading markdown_it_py-3.0.0-py3-none-any.whl (87 kB)\n",
      "   ---------------------------------------- 0.0/87.5 kB ? eta -:--:--\n",
      "   ---------------------------------------- 87.5/87.5 kB ? eta 0:00:00\n",
      "Downloading wrapt-1.17.0-cp312-cp312-win_amd64.whl (38 kB)\n",
      "Downloading mdurl-0.1.2-py3-none-any.whl (10.0 kB)\n",
      "Installing collected packages: cymem, wrapt, wasabi, typing-extensions, tqdm, spacy-loggers, spacy-legacy, shellingham, setuptools, murmurhash, mdurl, MarkupSafe, cloudpathlib, click, catalogue, blis, annotated-types, srsly, smart-open, pydantic-core, preshed, markdown-it-py, marisa-trie, jinja2, rich, pydantic, language-data, typer, langcodes, confection, weasel, thinc, spacy\n",
      "Successfully installed MarkupSafe-3.0.2 annotated-types-0.7.0 blis-1.1.0 catalogue-2.0.10 click-8.1.8 cloudpathlib-0.20.0 confection-0.1.5 cymem-2.0.10 jinja2-3.1.5 langcodes-3.5.0 language-data-1.3.0 marisa-trie-1.2.1 markdown-it-py-3.0.0 mdurl-0.1.2 murmurhash-1.0.11 preshed-3.0.9 pydantic-2.10.4 pydantic-core-2.27.2 rich-13.9.4 setuptools-75.6.0 shellingham-1.5.4 smart-open-7.1.0 spacy-3.8.3 spacy-legacy-3.0.12 spacy-loggers-1.0.5 srsly-2.5.0 thinc-8.3.3 tqdm-4.67.1 typer-0.15.1 typing-extensions-4.12.2 wasabi-1.1.3 weasel-0.4.1 wrapt-1.17.0\n",
      "Note: you may need to restart the kernel to use updated packages.\n"
     ]
    },
    {
     "name": "stderr",
     "output_type": "stream",
     "text": [
      "  WARNING: The script tqdm.exe is installed in 'c:\\Users\\User\\AppData\\Local\\Programs\\Python\\Python312\\Scripts' which is not on PATH.\n",
      "  Consider adding this directory to PATH or, if you prefer to suppress this warning, use --no-warn-script-location.\n",
      "  WARNING: The script markdown-it.exe is installed in 'c:\\Users\\User\\AppData\\Local\\Programs\\Python\\Python312\\Scripts' which is not on PATH.\n",
      "  Consider adding this directory to PATH or, if you prefer to suppress this warning, use --no-warn-script-location.\n",
      "  WARNING: The script typer.exe is installed in 'c:\\Users\\User\\AppData\\Local\\Programs\\Python\\Python312\\Scripts' which is not on PATH.\n",
      "  Consider adding this directory to PATH or, if you prefer to suppress this warning, use --no-warn-script-location.\n",
      "  WARNING: The script weasel.exe is installed in 'c:\\Users\\User\\AppData\\Local\\Programs\\Python\\Python312\\Scripts' which is not on PATH.\n",
      "  Consider adding this directory to PATH or, if you prefer to suppress this warning, use --no-warn-script-location.\n",
      "  WARNING: The script spacy.exe is installed in 'c:\\Users\\User\\AppData\\Local\\Programs\\Python\\Python312\\Scripts' which is not on PATH.\n",
      "  Consider adding this directory to PATH or, if you prefer to suppress this warning, use --no-warn-script-location.\n",
      "\n",
      "[notice] A new release of pip is available: 23.2.1 -> 24.3.1\n",
      "[notice] To update, run: python.exe -m pip install --upgrade pip\n"
     ]
    }
   ],
   "source": [
    "pip install spacy"
   ]
  },
  {
   "cell_type": "code",
   "execution_count": 29,
   "metadata": {},
   "outputs": [
    {
     "data": {
      "text/html": [
       "<div>\n",
       "<style scoped>\n",
       "    .dataframe tbody tr th:only-of-type {\n",
       "        vertical-align: middle;\n",
       "    }\n",
       "\n",
       "    .dataframe tbody tr th {\n",
       "        vertical-align: top;\n",
       "    }\n",
       "\n",
       "    .dataframe thead th {\n",
       "        text-align: right;\n",
       "    }\n",
       "</style>\n",
       "<table border=\"1\" class=\"dataframe\">\n",
       "  <thead>\n",
       "    <tr style=\"text-align: right;\">\n",
       "      <th></th>\n",
       "      <th>Noun</th>\n",
       "      <th>Frequency</th>\n",
       "    </tr>\n",
       "  </thead>\n",
       "  <tbody>\n",
       "  </tbody>\n",
       "</table>\n",
       "</div>"
      ],
      "text/plain": [
       "Empty DataFrame\n",
       "Columns: [Noun, Frequency]\n",
       "Index: []"
      ]
     },
     "execution_count": 29,
     "metadata": {},
     "output_type": "execute_result"
    }
   ],
   "source": [
    "import spacy\n",
    "\n",
    "text_df = df[['Title', 'Description']].copy()\n",
    "text_df['Combined_Text'] = text_df['Title'] + \" \" + text_df['Description']\n",
    "\n",
    "# Load the German language model from spaCy\n",
    "try:\n",
    "    nlp = spacy.load(\"de_core_news_sm\")\n",
    "except OSError:\n",
    "    nlp = spacy.blank(\"de\")\n",
    "\n",
    "# Filter only titles\n",
    "titles = text_df['Title'].dropna()\n",
    "\n",
    "# Function to extract nouns from text\n",
    "def extract_nouns(text):\n",
    "    doc = nlp(text)\n",
    "    return [token.text for token in doc if token.pos_ == \"NOUN\"]\n",
    "\n",
    "# Extract nouns from titles\n",
    "titles_nouns = titles.apply(extract_nouns)\n",
    "\n",
    "# Flatten the list of lists and calculate word frequencies for nouns only\n",
    "all_nouns = [noun for nouns in titles_nouns for noun in nouns]\n",
    "noun_frequencies = pd.Series(all_nouns).value_counts().reset_index()\n",
    "noun_frequencies.columns = ['Noun', 'Frequency']\n",
    "\n",
    "# Display the noun frequencies\n",
    "noun_frequencies.head(10)"
   ]
  },
  {
   "cell_type": "code",
   "execution_count": 34,
   "metadata": {},
   "outputs": [
    {
     "name": "stdout",
     "output_type": "stream",
     "text": [
      "Collecting scikit-learnNote: you may need to restart the kernel to use updated packages.\n"
     ]
    },
    {
     "name": "stderr",
     "output_type": "stream",
     "text": [
      "\n",
      "[notice] A new release of pip is available: 23.2.1 -> 24.3.1\n",
      "[notice] To update, run: python.exe -m pip install --upgrade pip\n"
     ]
    },
    {
     "name": "stdout",
     "output_type": "stream",
     "text": [
      "\n",
      "  Obtaining dependency information for scikit-learn from https://files.pythonhosted.org/packages/21/1d/3df58df8bd425f425df9f90b316618ace62b7f1f838ac1580191025cc735/scikit_learn-1.6.0-cp312-cp312-win_amd64.whl.metadata\n",
      "  Downloading scikit_learn-1.6.0-cp312-cp312-win_amd64.whl.metadata (15 kB)\n",
      "Requirement already satisfied: numpy>=1.19.5 in c:\\users\\user\\appdata\\local\\programs\\python\\python312\\lib\\site-packages (from scikit-learn) (2.2.1)\n",
      "Collecting scipy>=1.6.0 (from scikit-learn)\n",
      "  Obtaining dependency information for scipy>=1.6.0 from https://files.pythonhosted.org/packages/aa/7d/43ab67228ef98c6b5dd42ab386eae2d7877036970a0d7e3dd3eb47a0d530/scipy-1.14.1-cp312-cp312-win_amd64.whl.metadata\n",
      "  Downloading scipy-1.14.1-cp312-cp312-win_amd64.whl.metadata (60 kB)\n",
      "     ---------------------------------------- 0.0/60.8 kB ? eta -:--:--\n",
      "     -------------------- ------------------- 30.7/60.8 kB 1.3 MB/s eta 0:00:01\n",
      "     -------------------------------------- 60.8/60.8 kB 802.2 kB/s eta 0:00:00\n",
      "Collecting joblib>=1.2.0 (from scikit-learn)\n",
      "  Obtaining dependency information for joblib>=1.2.0 from https://files.pythonhosted.org/packages/91/29/df4b9b42f2be0b623cbd5e2140cafcaa2bef0759a00b7b70104dcfe2fb51/joblib-1.4.2-py3-none-any.whl.metadata\n",
      "  Downloading joblib-1.4.2-py3-none-any.whl.metadata (5.4 kB)\n",
      "Collecting threadpoolctl>=3.1.0 (from scikit-learn)\n",
      "  Obtaining dependency information for threadpoolctl>=3.1.0 from https://files.pythonhosted.org/packages/4b/2c/ffbf7a134b9ab11a67b0cf0726453cedd9c5043a4fe7a35d1cefa9a1bcfb/threadpoolctl-3.5.0-py3-none-any.whl.metadata\n",
      "  Downloading threadpoolctl-3.5.0-py3-none-any.whl.metadata (13 kB)\n",
      "Downloading scikit_learn-1.6.0-cp312-cp312-win_amd64.whl (11.1 MB)\n",
      "   ---------------------------------------- 0.0/11.1 MB ? eta -:--:--\n",
      "   - -------------------------------------- 0.4/11.1 MB 12.2 MB/s eta 0:00:01\n",
      "   ---- ----------------------------------- 1.3/11.1 MB 16.5 MB/s eta 0:00:01\n",
      "   --------- ------------------------------ 2.5/11.1 MB 20.2 MB/s eta 0:00:01\n",
      "   ------------- -------------------------- 3.8/11.1 MB 21.8 MB/s eta 0:00:01\n",
      "   ------------------ --------------------- 5.3/11.1 MB 24.0 MB/s eta 0:00:01\n",
      "   ------------------------ --------------- 6.7/11.1 MB 25.3 MB/s eta 0:00:01\n",
      "   ---------------------------- ----------- 7.9/11.1 MB 25.1 MB/s eta 0:00:01\n",
      "   --------------------------------- ------ 9.2/11.1 MB 26.9 MB/s eta 0:00:01\n",
      "   ------------------------------------- -- 10.4/11.1 MB 27.3 MB/s eta 0:00:01\n",
      "   ---------------------------------------  11.1/11.1 MB 29.8 MB/s eta 0:00:01\n",
      "   ---------------------------------------- 11.1/11.1 MB 25.2 MB/s eta 0:00:00\n",
      "Downloading joblib-1.4.2-py3-none-any.whl (301 kB)\n",
      "   ---------------------------------------- 0.0/301.8 kB ? eta -:--:--\n",
      "   --------------------------------------- 301.8/301.8 kB 18.2 MB/s eta 0:00:00\n",
      "Downloading scipy-1.14.1-cp312-cp312-win_amd64.whl (44.5 MB)\n",
      "   ---------------------------------------- 0.0/44.5 MB ? eta -:--:--\n",
      "   - -------------------------------------- 1.2/44.5 MB 37.7 MB/s eta 0:00:02\n",
      "   -- ------------------------------------- 2.5/44.5 MB 32.4 MB/s eta 0:00:02\n",
      "   --- ------------------------------------ 4.0/44.5 MB 36.7 MB/s eta 0:00:02\n",
      "   ---- ----------------------------------- 5.5/44.5 MB 32.0 MB/s eta 0:00:02\n",
      "   ------ --------------------------------- 6.7/44.5 MB 30.6 MB/s eta 0:00:02\n",
      "   ------ --------------------------------- 7.3/44.5 MB 31.3 MB/s eta 0:00:02\n",
      "   ------- -------------------------------- 8.0/44.5 MB 27.0 MB/s eta 0:00:02\n",
      "   -------- ------------------------------- 9.3/44.5 MB 26.9 MB/s eta 0:00:02\n",
      "   --------- ------------------------------ 10.7/44.5 MB 27.3 MB/s eta 0:00:02\n",
      "   ---------- ----------------------------- 12.0/44.5 MB 26.2 MB/s eta 0:00:02\n",
      "   ----------- ---------------------------- 13.3/44.5 MB 25.2 MB/s eta 0:00:02\n",
      "   ------------- -------------------------- 14.7/44.5 MB 27.3 MB/s eta 0:00:02\n",
      "   ------------- -------------------------- 15.0/44.5 MB 26.2 MB/s eta 0:00:02\n",
      "   --------------- ------------------------ 17.1/44.5 MB 26.2 MB/s eta 0:00:02\n",
      "   ---------------- ----------------------- 18.1/44.5 MB 28.5 MB/s eta 0:00:01\n",
      "   ----------------- ---------------------- 19.6/44.5 MB 28.5 MB/s eta 0:00:01\n",
      "   ------------------ --------------------- 21.1/44.5 MB 28.5 MB/s eta 0:00:01\n",
      "   ------------------- -------------------- 21.3/44.5 MB 28.4 MB/s eta 0:00:01\n",
      "   ------------------- -------------------- 22.0/44.5 MB 24.2 MB/s eta 0:00:01\n",
      "   --------------------- ------------------ 24.2/44.5 MB 27.3 MB/s eta 0:00:01\n",
      "   ---------------------- ----------------- 25.5/44.5 MB 31.2 MB/s eta 0:00:01\n",
      "   ------------------------ --------------- 26.9/44.5 MB 28.4 MB/s eta 0:00:01\n",
      "   ------------------------- -------------- 28.4/44.5 MB 28.4 MB/s eta 0:00:01\n",
      "   -------------------------- ------------- 29.6/44.5 MB 28.5 MB/s eta 0:00:01\n",
      "   --------------------------- ------------ 31.1/44.5 MB 28.5 MB/s eta 0:00:01\n",
      "   ----------------------------- ---------- 32.6/44.5 MB 34.4 MB/s eta 0:00:01\n",
      "   ------------------------------ --------- 33.7/44.5 MB 31.2 MB/s eta 0:00:01\n",
      "   ------------------------------- -------- 35.1/44.5 MB 31.2 MB/s eta 0:00:01\n",
      "   -------------------------------- ------- 36.4/44.5 MB 31.2 MB/s eta 0:00:01\n",
      "   --------------------------------- ------ 37.7/44.5 MB 31.2 MB/s eta 0:00:01\n",
      "   ----------------------------------- ---- 39.2/44.5 MB 32.8 MB/s eta 0:00:01\n",
      "   ------------------------------------ --- 40.8/44.5 MB 29.7 MB/s eta 0:00:01\n",
      "   ------------------------------------- -- 42.2/44.5 MB 31.2 MB/s eta 0:00:01\n",
      "   ---------------------------------------  43.5/44.5 MB 32.7 MB/s eta 0:00:01\n",
      "   ---------------------------------------  44.5/44.5 MB 31.2 MB/s eta 0:00:01\n",
      "   ---------------------------------------  44.5/44.5 MB 31.2 MB/s eta 0:00:01\n",
      "   ---------------------------------------  44.5/44.5 MB 31.2 MB/s eta 0:00:01\n",
      "   ---------------------------------------  44.5/44.5 MB 31.2 MB/s eta 0:00:01\n",
      "   ---------------------------------------- 44.5/44.5 MB 19.3 MB/s eta 0:00:00\n",
      "Downloading threadpoolctl-3.5.0-py3-none-any.whl (18 kB)\n",
      "Installing collected packages: threadpoolctl, scipy, joblib, scikit-learn\n",
      "Successfully installed joblib-1.4.2 scikit-learn-1.6.0 scipy-1.14.1 threadpoolctl-3.5.0\n"
     ]
    }
   ],
   "source": [
    "pip install scikit-learn"
   ]
  },
  {
   "cell_type": "code",
   "execution_count": 35,
   "metadata": {},
   "outputs": [
    {
     "ename": "OSError",
     "evalue": "[E050] Can't find model 'de_core_news_sm'. It doesn't seem to be a Python package or a valid path to a data directory.",
     "output_type": "error",
     "traceback": [
      "\u001b[1;31m---------------------------------------------------------------------------\u001b[0m",
      "\u001b[1;31mOSError\u001b[0m                                   Traceback (most recent call last)",
      "Cell \u001b[1;32mIn[35], line 7\u001b[0m\n\u001b[0;32m      4\u001b[0m \u001b[38;5;28;01mimport\u001b[39;00m \u001b[38;5;21;01mpandas\u001b[39;00m \u001b[38;5;28;01mas\u001b[39;00m \u001b[38;5;21;01mpd\u001b[39;00m\n\u001b[0;32m      6\u001b[0m \u001b[38;5;66;03m# Load the German spaCy language model\u001b[39;00m\n\u001b[1;32m----> 7\u001b[0m nlp \u001b[38;5;241m=\u001b[39m \u001b[43mspacy\u001b[49m\u001b[38;5;241;43m.\u001b[39;49m\u001b[43mload\u001b[49m\u001b[43m(\u001b[49m\u001b[38;5;124;43m\"\u001b[39;49m\u001b[38;5;124;43mde_core_news_sm\u001b[39;49m\u001b[38;5;124;43m\"\u001b[39;49m\u001b[43m)\u001b[49m\n\u001b[0;32m      9\u001b[0m \u001b[38;5;66;03m# Function to extract nouns from text using spaCy\u001b[39;00m\n\u001b[0;32m     10\u001b[0m \u001b[38;5;28;01mdef\u001b[39;00m \u001b[38;5;21mextract_nouns_spacy\u001b[39m(text):\n",
      "File \u001b[1;32mc:\\Users\\User\\AppData\\Local\\Programs\\Python\\Python312\\Lib\\site-packages\\spacy\\__init__.py:51\u001b[0m, in \u001b[0;36mload\u001b[1;34m(name, vocab, disable, enable, exclude, config)\u001b[0m\n\u001b[0;32m     27\u001b[0m \u001b[38;5;28;01mdef\u001b[39;00m \u001b[38;5;21mload\u001b[39m(\n\u001b[0;32m     28\u001b[0m     name: Union[\u001b[38;5;28mstr\u001b[39m, Path],\n\u001b[0;32m     29\u001b[0m     \u001b[38;5;241m*\u001b[39m,\n\u001b[1;32m   (...)\u001b[0m\n\u001b[0;32m     34\u001b[0m     config: Union[Dict[\u001b[38;5;28mstr\u001b[39m, Any], Config] \u001b[38;5;241m=\u001b[39m util\u001b[38;5;241m.\u001b[39mSimpleFrozenDict(),\n\u001b[0;32m     35\u001b[0m ) \u001b[38;5;241m-\u001b[39m\u001b[38;5;241m>\u001b[39m Language:\n\u001b[0;32m     36\u001b[0m \u001b[38;5;250m    \u001b[39m\u001b[38;5;124;03m\"\"\"Load a spaCy model from an installed package or a local path.\u001b[39;00m\n\u001b[0;32m     37\u001b[0m \n\u001b[0;32m     38\u001b[0m \u001b[38;5;124;03m    name (str): Package name or model path.\u001b[39;00m\n\u001b[1;32m   (...)\u001b[0m\n\u001b[0;32m     49\u001b[0m \u001b[38;5;124;03m    RETURNS (Language): The loaded nlp object.\u001b[39;00m\n\u001b[0;32m     50\u001b[0m \u001b[38;5;124;03m    \"\"\"\u001b[39;00m\n\u001b[1;32m---> 51\u001b[0m     \u001b[38;5;28;01mreturn\u001b[39;00m \u001b[43mutil\u001b[49m\u001b[38;5;241;43m.\u001b[39;49m\u001b[43mload_model\u001b[49m\u001b[43m(\u001b[49m\n\u001b[0;32m     52\u001b[0m \u001b[43m        \u001b[49m\u001b[43mname\u001b[49m\u001b[43m,\u001b[49m\n\u001b[0;32m     53\u001b[0m \u001b[43m        \u001b[49m\u001b[43mvocab\u001b[49m\u001b[38;5;241;43m=\u001b[39;49m\u001b[43mvocab\u001b[49m\u001b[43m,\u001b[49m\n\u001b[0;32m     54\u001b[0m \u001b[43m        \u001b[49m\u001b[43mdisable\u001b[49m\u001b[38;5;241;43m=\u001b[39;49m\u001b[43mdisable\u001b[49m\u001b[43m,\u001b[49m\n\u001b[0;32m     55\u001b[0m \u001b[43m        \u001b[49m\u001b[43menable\u001b[49m\u001b[38;5;241;43m=\u001b[39;49m\u001b[43menable\u001b[49m\u001b[43m,\u001b[49m\n\u001b[0;32m     56\u001b[0m \u001b[43m        \u001b[49m\u001b[43mexclude\u001b[49m\u001b[38;5;241;43m=\u001b[39;49m\u001b[43mexclude\u001b[49m\u001b[43m,\u001b[49m\n\u001b[0;32m     57\u001b[0m \u001b[43m        \u001b[49m\u001b[43mconfig\u001b[49m\u001b[38;5;241;43m=\u001b[39;49m\u001b[43mconfig\u001b[49m\u001b[43m,\u001b[49m\n\u001b[0;32m     58\u001b[0m \u001b[43m    \u001b[49m\u001b[43m)\u001b[49m\n",
      "File \u001b[1;32mc:\\Users\\User\\AppData\\Local\\Programs\\Python\\Python312\\Lib\\site-packages\\spacy\\util.py:472\u001b[0m, in \u001b[0;36mload_model\u001b[1;34m(name, vocab, disable, enable, exclude, config)\u001b[0m\n\u001b[0;32m    470\u001b[0m \u001b[38;5;28;01mif\u001b[39;00m name \u001b[38;5;129;01min\u001b[39;00m OLD_MODEL_SHORTCUTS:\n\u001b[0;32m    471\u001b[0m     \u001b[38;5;28;01mraise\u001b[39;00m \u001b[38;5;167;01mIOError\u001b[39;00m(Errors\u001b[38;5;241m.\u001b[39mE941\u001b[38;5;241m.\u001b[39mformat(name\u001b[38;5;241m=\u001b[39mname, full\u001b[38;5;241m=\u001b[39mOLD_MODEL_SHORTCUTS[name]))  \u001b[38;5;66;03m# type: ignore[index]\u001b[39;00m\n\u001b[1;32m--> 472\u001b[0m \u001b[38;5;28;01mraise\u001b[39;00m \u001b[38;5;167;01mIOError\u001b[39;00m(Errors\u001b[38;5;241m.\u001b[39mE050\u001b[38;5;241m.\u001b[39mformat(name\u001b[38;5;241m=\u001b[39mname))\n",
      "\u001b[1;31mOSError\u001b[0m: [E050] Can't find model 'de_core_news_sm'. It doesn't seem to be a Python package or a valid path to a data directory."
     ]
    }
   ],
   "source": [
    "import spacy\n",
    "from sklearn.feature_extraction.text import TfidfVectorizer\n",
    "from sklearn.decomposition import LatentDirichletAllocation\n",
    "import pandas as pd\n",
    "\n",
    "# Load the German spaCy language model\n",
    "nlp = spacy.load(\"de_core_news_sm\")\n",
    "\n",
    "# Function to extract nouns from text using spaCy\n",
    "def extract_nouns_spacy(text):\n",
    "    doc = nlp(text)\n",
    "    return \" \".join([token.text for token in doc if token.pos_ == \"NOUN\"])\n",
    "\n",
    "# Apply the noun extraction to the combined text\n",
    "text_df['Nouns_Text'] = text_df['Combined_Text'].apply(extract_nouns_spacy)\n",
    "\n",
    "# Define TF-IDF vectorizer with German stopwords\n",
    "tfidf_vectorizer_german = TfidfVectorizer(stop_words=german_stopwords_list, max_features=1000)\n",
    "tfidf_matrix_nouns = tfidf_vectorizer_german.fit_transform(text_df['Nouns_Text'])\n",
    "\n",
    "# Perform LDA for topic modeling\n",
    "lda_german_refined = LatentDirichletAllocation(n_components=5, random_state=42)  # Adjust number of topics as needed\n",
    "lda_german_refined.fit(tfidf_matrix_nouns)\n",
    "\n",
    "# Extract top words for each topic using nouns\n",
    "num_top_words = 5\n",
    "tfidf_feature_names_nouns = tfidf_vectorizer_german.get_feature_names_out()\n",
    "topics_german_refined = {\n",
    "    f\"Topic {i+1}\": [tfidf_feature_names_nouns[index] for index in topic.argsort()[:-num_top_words - 1:-1]]\n",
    "    for i, topic in enumerate(lda_german_refined.components_)\n",
    "}\n",
    "\n",
    "# Create a DataFrame for refined topics and their top keywords\n",
    "topics_df_refined = pd.DataFrame.from_dict(topics_german_refined, orient='index', columns=[f\"Keyword {i+1}\" for i in range(num_top_words)])\n",
    "\n",
    "# Display the improved topics with refined data\n",
    "topics_df_refined"
   ]
  },
  {
   "cell_type": "code",
   "execution_count": 71,
   "metadata": {},
   "outputs": [
    {
     "data": {
      "text/html": [
       "<div>\n",
       "<style scoped>\n",
       "    .dataframe tbody tr th:only-of-type {\n",
       "        vertical-align: middle;\n",
       "    }\n",
       "\n",
       "    .dataframe tbody tr th {\n",
       "        vertical-align: top;\n",
       "    }\n",
       "\n",
       "    .dataframe thead th {\n",
       "        text-align: right;\n",
       "    }\n",
       "</style>\n",
       "<table border=\"1\" class=\"dataframe\">\n",
       "  <thead>\n",
       "    <tr style=\"text-align: right;\">\n",
       "      <th></th>\n",
       "      <th>Phrase</th>\n",
       "      <th>Frequency</th>\n",
       "    </tr>\n",
       "  </thead>\n",
       "  <tbody>\n",
       "    <tr>\n",
       "      <th>99</th>\n",
       "      <td>Kinderheim Pauline</td>\n",
       "      <td>4</td>\n",
       "    </tr>\n",
       "    <tr>\n",
       "      <th>58</th>\n",
       "      <td>Siegburger Madrigalchor</td>\n",
       "      <td>3</td>\n",
       "    </tr>\n",
       "    <tr>\n",
       "      <th>70</th>\n",
       "      <td>junge Frauen</td>\n",
       "      <td>3</td>\n",
       "    </tr>\n",
       "    <tr>\n",
       "      <th>65</th>\n",
       "      <td>Chor Cantiamo</td>\n",
       "      <td>2</td>\n",
       "    </tr>\n",
       "    <tr>\n",
       "      <th>24</th>\n",
       "      <td>Fahrrad Rikscha</td>\n",
       "      <td>2</td>\n",
       "    </tr>\n",
       "    <tr>\n",
       "      <th>96</th>\n",
       "      <td>Bistro Pauline</td>\n",
       "      <td>2</td>\n",
       "    </tr>\n",
       "    <tr>\n",
       "      <th>14</th>\n",
       "      <td>Konkrete Veranstaltungen</td>\n",
       "      <td>2</td>\n",
       "    </tr>\n",
       "    <tr>\n",
       "      <th>15</th>\n",
       "      <td>interessierte Bürger</td>\n",
       "      <td>2</td>\n",
       "    </tr>\n",
       "    <tr>\n",
       "      <th>2</th>\n",
       "      <td>geselligen Beisammensein</td>\n",
       "      <td>2</td>\n",
       "    </tr>\n",
       "    <tr>\n",
       "      <th>64</th>\n",
       "      <td>unterschiedlichsten Genres</td>\n",
       "      <td>1</td>\n",
       "    </tr>\n",
       "  </tbody>\n",
       "</table>\n",
       "</div>"
      ],
      "text/plain": [
       "                        Phrase  Frequency\n",
       "99          Kinderheim Pauline          4\n",
       "58     Siegburger Madrigalchor          3\n",
       "70                junge Frauen          3\n",
       "65               Chor Cantiamo          2\n",
       "24             Fahrrad Rikscha          2\n",
       "96              Bistro Pauline          2\n",
       "14    Konkrete Veranstaltungen          2\n",
       "15        interessierte Bürger          2\n",
       "2     geselligen Beisammensein          2\n",
       "64  unterschiedlichsten Genres          1"
      ]
     },
     "execution_count": 71,
     "metadata": {},
     "output_type": "execute_result"
    }
   ],
   "source": [
    "import spacy\n",
    "from collections import Counter\n",
    "\n",
    "# Load the German language model from spaCy\n",
    "nlp = spacy.load(\"de_core_news_sm\")\n",
    "\n",
    "# Function to extract meaningful 2-3 word phrases (noun phrases) using spaCy\n",
    "def extract_phrases_spacy(text, n_min=2, n_max=3):\n",
    "    doc = nlp(text)\n",
    "    phrases = []\n",
    "    for chunk in doc.noun_chunks:  # Extract noun phrases\n",
    "        words = [token.text for token in chunk if not token.is_stop and token.is_alpha]\n",
    "        if n_min <= len(words) <= n_max:\n",
    "            phrases.append(\" \".join(words))\n",
    "    return phrases\n",
    "\n",
    "# Apply the function to the Combined_Text column\n",
    "text_df['Phrases'] = text_df['Combined_Text'].apply(lambda x: extract_phrases_spacy(x))\n",
    "\n",
    "# Flatten the list of phrases for frequency analysis\n",
    "all_phrases = [phrase for phrases in text_df['Phrases'] for phrase in phrases]\n",
    "phrase_counts = Counter(all_phrases)\n",
    "\n",
    "# Convert the phrase frequencies into a DataFrame\n",
    "phrase_freq_df = pd.DataFrame(phrase_counts.items(), columns=['Phrase', 'Frequency']).sort_values(by='Frequency', ascending=False)\n",
    "\n",
    "# Display the top 10 most common phrases\n",
    "phrase_freq_df.head(10)"
   ]
  },
  {
   "cell_type": "code",
   "execution_count": null,
   "metadata": {},
   "outputs": [],
   "source": []
  }
 ],
 "metadata": {
  "kernelspec": {
   "display_name": "Python 3",
   "language": "python",
   "name": "python3"
  },
  "language_info": {
   "codemirror_mode": {
    "name": "ipython",
    "version": 3
   },
   "file_extension": ".py",
   "mimetype": "text/x-python",
   "name": "python",
   "nbconvert_exporter": "python",
   "pygments_lexer": "ipython3",
   "version": "3.12.0"
  }
 },
 "nbformat": 4,
 "nbformat_minor": 2
}
